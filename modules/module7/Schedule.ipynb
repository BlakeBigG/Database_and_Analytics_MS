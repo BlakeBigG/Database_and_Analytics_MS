{
 "cells": [
  {
   "cell_type": "markdown",
   "metadata": {},
   "source": [
    "# Module 7: Alternate Database Systems and Final Project Preparation"
   ]
  },
  {
   "cell_type": "markdown",
   "metadata": {},
   "source": [
    "## Topics covered\n",
    "* Vignettes of Adv. Data Systems\n",
    " * Graph DB\n",
    " * NoSQL, Mongo\n",
    " * Geospatial\n",
    "* Final Project Data Acquisition & Analysis\n",
    "* Final Project Database Design\n",
    "\n"
   ]
  },
  {
   "cell_type": "markdown",
   "metadata": {},
   "source": [
    "## Readings\n",
    "\n"
   ]
  },
  {
   "cell_type": "markdown",
   "metadata": {},
   "source": [
    "## Discussions\n",
    "No discussion board posts on canvas this week."
   ]
  },
  {
   "cell_type": "markdown",
   "metadata": {},
   "source": [
    "\n",
    "## Vignettes of Advanced Databases\n",
    "\n",
    "\n",
    "### GraphDB\n",
    "\n",
    "#### Videos\n",
    "* [Graph Databases 101](https://www.youtube.com/watch?v=vJcxRjJ982k)\n",
    "* [Intro to Graph Databases Episode #2 - Properties of Graph DBs & Use Cases](https://www.youtube.com/watch?v=-dCeFEqDkUI) This is a series by Neo4j, feel free to watch as many as you like.\n",
    "\n",
    "#### Lab \n",
    "* [Neo4j and Cypher](./labs/Intro_to_Cypher.ipynb)\n",
    "\n",
    "---\n",
    "\n",
    "\n",
    "### NoSQL\n",
    "\n",
    "#### Videos\n",
    "* [SQL vs NoSQL](https://www.youtube.com/watch?v=ZS_kXvOeQ5Y)\n",
    "\n",
    "#### Lab \n",
    "* [MongoDB](./labs/Introduction-to-MongoDB.ipynb)\n",
    "\n",
    "\n",
    "---\n",
    "\n",
    "\n",
    "### Geospatial\n",
    "\n",
    "#### Readings\n",
    "\n",
    " * [Geospatial Overview](./resources/GeospatialOverview.ipynb)\n",
    " * [PostGIS documentation](https://postgis.net/docs/manual-2.2/using_postgis_dbmanagement.html)\n",
    "\n",
    "#### Lab \n",
    " * [PostGIS](labs/PostGIS_Intro.ipynb)\n",
    "\n",
    "---"
   ]
  },
  {
   "cell_type": "markdown",
   "metadata": {},
   "source": [
    "## Final Project Preparation\n",
    "\n",
    " * [Final Project Part I](../module8/exercises/Final-Project-Part-I.ipynb)\n"
   ]
  },
  {
   "cell_type": "markdown",
   "metadata": {},
   "source": [
    "## Submitting  work\n",
    "\n",
    "**Note**: we are submitting labs this week as well as practices and exercises.\n",
    "\n",
    "#### Steps:\n",
    "  1. Open Terminal in JupyterHub\n",
    "  1. Change into the course folder  \n",
    "  1. Stage (Git Add) the module's exercise work   \n",
    "  `git  add modules/module7/labs  modules/module7/practices modules/module7/exercises`\n",
    "  1. Create your work snapshot (Git Commit)  \n",
    "  `git   commit   -m   \"Module 7 submission\"`\n",
    "  1. Upload the snapshot to the server (Git Push)  \n",
    "  `git   push`\n"
   ]
  }
 ],
 "metadata": {
  "kernelspec": {
   "display_name": "Python 3",
   "language": "python",
   "name": "python3"
  },
  "language_info": {
   "codemirror_mode": {
    "name": "ipython",
    "version": 3
   },
   "file_extension": ".py",
   "mimetype": "text/x-python",
   "name": "python",
   "nbconvert_exporter": "python",
   "pygments_lexer": "ipython3",
   "version": "3.7.3"
  }
 },
 "nbformat": 4,
 "nbformat_minor": 2
}
