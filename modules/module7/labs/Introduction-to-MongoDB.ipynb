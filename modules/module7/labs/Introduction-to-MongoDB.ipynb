{
 "cells": [
  {
   "cell_type": "markdown",
   "metadata": {},
   "source": [
    "# MongoDB\n",
    "\n",
    "From Introduction to MongoDB at https://docs.mongodb.com/manual/introduction/:  \n",
    "\"MongoDB is an open-source document database that provides high performance, high availability, and automatic scaling.\"\n",
    "\n",
    "While many relational database management systems have been in use since the 1970s, \n",
    "as technology and how we use it continues to evolve we need new ways to address the growing volume of data, and how we interact with it. \n",
    "\n",
    "What is meant by a \"document database\" is that each entry in the database is meant to be a self-contained unit. \n",
    "These so called documents are then organized into what are called \"collections\".\n",
    "\n",
    "\n",
    "While joins are possible in MongoDB, \n",
    "they are a bit of an \"anti-pattern\" in the context of a document store. \n",
    "\n"
   ]
  },
  {
   "cell_type": "markdown",
   "metadata": {},
   "source": [
    "**At the very basic level,\n",
    "a document is similar to a row in a relational database, \n",
    "and a collection is analogous to a table.** \n",
    "\n",
    "\n",
    "## Node Assignments \n",
    "\n",
    "* Server `mongodb-1.dsa.lan`: Last name A - G \n",
    "* Server `mongodb-2.dsa.lan`: Last name H - M\n",
    "* Server `mongodb-3.dsa.lan`: Last name N - S\n",
    "* Server `mongodb-4.dsa.lan`: Last name T - Y\n",
    "\n",
    "\n",
    "## Readings\n",
    "* [Why NoSQL Database](https://www.couchbase.com/resources/why-nosql)\n",
    "* [What is MongoDB](https://intellipaat.com/blog/what-is-mongodb/)\n",
    "* [Introduction to MongoDB and Python](https://realpython.com/introduction-to-mongodb-and-python/)"
   ]
  },
  {
   "cell_type": "markdown",
   "metadata": {},
   "source": [
    "## Intro to MongoDB + Python with a movie review dataset\n",
    "\n",
    "Let's start exploring MongoDB with Python to see how things compare to PostgreSQL. \n",
    "\n",
    "Full documentation on `pymongo` can be found here:https://api.mongodb.com/python/current/api/pymongo/"
   ]
  },
  {
   "cell_type": "code",
   "execution_count": null,
   "metadata": {},
   "outputs": [],
   "source": [
    "from pymongo import MongoClient\n",
    "import pymongo\n",
    "\n",
    "# Initialize a Mongo Client\n",
    "#################################################\n",
    "# Update UPDATE-ME in the connection code\n",
    "#################################################\n",
    "# Node 1 - mongodb-1.dsa.lan\n",
    "# Node 2 - mongodb-2.dsa.lan\n",
    "# Node 3 - mongodb-3.dsa.lan\n",
    "# Node 4 - mongodb-4.dsa.lan\n",
    "#################################################\n",
    "#\n",
    "client = MongoClient('UPDATE-ME.dsa.lan',\n",
    "                     username='ml_small_reader',\n",
    "                     password='mlsmall.read',\n",
    "                     authSource='ml_small')"
   ]
  },
  {
   "cell_type": "code",
   "execution_count": null,
   "metadata": {},
   "outputs": [],
   "source": [
    "# connect to the ml_small database from the connection\n",
    "db = client.ml_small"
   ]
  },
  {
   "cell_type": "code",
   "execution_count": null,
   "metadata": {},
   "outputs": [],
   "source": [
    "# Get a list of the available collections in this DB.\n",
    "db.list_collection_names()"
   ]
  },
  {
   "cell_type": "code",
   "execution_count": null,
   "metadata": {},
   "outputs": [],
   "source": [
    "# Get a count of the number of documents in the item collection\n",
    "print(f\"num of items = {db.item.count_documents({})}\")\n",
    "print(f\"num of users = {db.user.count_documents({})}\")\n",
    "print(f\"num of genres = {db.genre.count_documents({})}\")\n",
    "print(f\"num of user ratings = {db.data.count_documents({})}\")"
   ]
  },
  {
   "cell_type": "markdown",
   "metadata": {},
   "source": [
    "**Note**: in the function call above, we passed in a Dictionary, that mongo converts to a JSON document, that is empty.\n",
    "This _document_ is the query parameters, i.e., how to match documents it is to count.\n",
    "\n",
    "With some basic syntax examples, let's explore the data."
   ]
  },
  {
   "cell_type": "code",
   "execution_count": null,
   "metadata": {},
   "outputs": [],
   "source": [
    "db.item.find_one()"
   ]
  },
  {
   "cell_type": "code",
   "execution_count": null,
   "metadata": {},
   "outputs": [],
   "source": [
    "db.user.find_one()"
   ]
  },
  {
   "cell_type": "code",
   "execution_count": null,
   "metadata": {},
   "outputs": [],
   "source": [
    "db.genre.find_one()"
   ]
  },
  {
   "cell_type": "code",
   "execution_count": null,
   "metadata": {},
   "outputs": [],
   "source": [
    "db.data.find_one()"
   ]
  },
  {
   "cell_type": "markdown",
   "metadata": {},
   "source": [
    "Now that we've seen our data, let's make sense of it. \n",
    "\n",
    "This data is a movie rating dataset for 1681 movies [`db.item.count_documents({})`]. \n",
    "There are 943 users [`db.user.count_documents({})`] who have submitted, \n",
    "in this dataset, 100k reviews [`db.data.count_documents({})`]. \n",
    "\n",
    "`db.genre` is a listing of all of the genre's available, along with their unique ID, \n",
    "which is not used elsewhere in this dataset.\n",
    "This is residual data from the fact that this dataset was exported from a relational schema.\n",
    "\n",
    "Each document in `db.item` describes a single movie. \n",
    "Each movie could fit into any number of genres, \n",
    "so all genres are listed and a binary yes (1) or no (0) is recorded if the movie fit that genre. \n",
    "We also have some other data available, including the movie title. \n",
    "\n",
    "We'll dive into the data more with the Aggregates and Joins labs, \n",
    "but let's get some examples on how to do things you would naturally think of trying to do."
   ]
  },
  {
   "cell_type": "markdown",
   "metadata": {},
   "source": [
    "## Returning a number of rows"
   ]
  },
  {
   "cell_type": "code",
   "execution_count": null,
   "metadata": {
    "scrolled": true
   },
   "outputs": [],
   "source": [
    "# get an iterator for all genres.\n",
    "for genre in db.genre.find():\n",
    "    print(genre)\n",
    "    "
   ]
  },
  {
   "cell_type": "code",
   "execution_count": null,
   "metadata": {},
   "outputs": [],
   "source": [
    "# Or get the iterator and immediately make it a list...\n",
    "genres = list(db.genre.find())\n",
    "print(genres)\n",
    "print('-'*50)\n",
    "print(len(genres))\n"
   ]
  },
  {
   "cell_type": "code",
   "execution_count": null,
   "metadata": {},
   "outputs": [],
   "source": [
    "# Find a specific Genre, knowing the query will always return at-most one document.\n",
    "print(db.genre.find_one({\"genre\": \"Children's\"}))\n",
    "print(db.genre.find_one({\"genre\": \"Sci-Fi\"}))"
   ]
  },
  {
   "cell_type": "code",
   "execution_count": null,
   "metadata": {},
   "outputs": [],
   "source": [
    "# Find any single document, with no concern for which.\n",
    "print(db.genre.find_one())"
   ]
  },
  {
   "cell_type": "markdown",
   "metadata": {},
   "source": [
    "## Sorting"
   ]
  },
  {
   "cell_type": "code",
   "execution_count": null,
   "metadata": {},
   "outputs": [],
   "source": [
    "# Find the last genre, in alphabetical order.\n",
    "print(db.genre.find_one(sort=[('genre', pymongo.DESCENDING)]))\n",
    "\n",
    "# Likewise the first one, in alphabetical order.\n",
    "print(db.genre.find_one(sort=[('genre', pymongo.ASCENDING)]))"
   ]
  },
  {
   "cell_type": "markdown",
   "metadata": {},
   "source": [
    "## Sorting with a limit "
   ]
  },
  {
   "cell_type": "code",
   "execution_count": null,
   "metadata": {},
   "outputs": [],
   "source": [
    "for movie in db.item.find(sort=[('movie_title', pymongo.ASCENDING)], limit=20):\n",
    "    print(movie['movie_title'])"
   ]
  },
  {
   "cell_type": "markdown",
   "metadata": {
    "collapsed": true
   },
   "source": [
    "## Sorting with a limit and skipping documents"
   ]
  },
  {
   "cell_type": "code",
   "execution_count": null,
   "metadata": {},
   "outputs": [],
   "source": [
    "# Skip the movies whose title begins with a number \n",
    "for movie in db.item.find(sort=[('movie_title', pymongo.ASCENDING)], \n",
    "                          limit=20, skip=13):\n",
    "    print(movie['movie_title'])"
   ]
  },
  {
   "cell_type": "markdown",
   "metadata": {},
   "source": [
    "## Summary\n",
    "\n",
    "As you can see, \n",
    "while the syntax for interacting with MongoDB is a little different from what you might \n",
    "expect if you are used to working with SQL statements, \n",
    "the interface can be picked up relatively quickly. \n",
    "Additionally, most things that you would want to do in SQL have a mapping to NoSQL. \n",
    "\n",
    "We skip over the data modification statements in this lab since we are connected to a read-only database, \n",
    "however they are much the same as you would expect: \n",
    " * `db.collection.insert_*()`, \n",
    " * `db.collection.update_*()`, \n",
    " * `db.collection.delete_*()`,\n",
    " \n",
    "are all available, as well as some not-so-obvious DML such as `db.collection.find_one_and_*()` functions. \n",
    "\n",
    "In the prior examples, `*` is a placeholder for one/many and then insert/update/delete, depending on the relevant context. \n",
    "See the documentation for more specifics. \n"
   ]
  },
  {
   "cell_type": "markdown",
   "metadata": {
    "collapsed": true
   },
   "source": [
    "## <span style=\"background:yellow\">Your Turn</span>\n",
    "\n",
    "Complete following lab work to gain hands-on experience with PyMongo and MongoDB.\n",
    "**Make sure that you have ran the above cells, and have a connection to the DB!**\n",
    "\n",
    "### Task 1\n",
    "\n",
    "#### Query the database to get the movies that start with the letter \"a\", case-insensitive. \n",
    "Specifically, the regex pattern is `'^a'` with option `'i'`\n",
    " * refer to https://docs.mongodb.com/manual/reference/operator/query/regex/ for help."
   ]
  },
  {
   "cell_type": "code",
   "execution_count": null,
   "metadata": {},
   "outputs": [],
   "source": [
    "# Add your code below\n",
    "# -------------------------\n",
    "\n",
    "\n",
    "\n",
    "\n"
   ]
  },
  {
   "cell_type": "markdown",
   "metadata": {},
   "source": [
    "### Task 2\n",
    "\n",
    "#### Query to find movies that were released after Janurary 1, 1995. \n",
    "\n",
    "As an example, and to aid you, datetime.datetime has been imported, \n",
    "the afterDate variable has been created for use in your query. \n",
    "\n",
    "Hint: It is Janurary 2, so  use greater than or equal to.\n",
    " * https://docs.mongodb.com/manual/reference/method/db.collection.find/ "
   ]
  },
  {
   "cell_type": "code",
   "execution_count": null,
   "metadata": {},
   "outputs": [],
   "source": [
    "from datetime import datetime\n",
    "afterDate = datetime(1995, 1, 2)\n",
    "\n",
    "# Add your code below\n",
    "# -------------------------\n",
    "\n",
    "\n",
    "\n",
    "\n",
    "\n"
   ]
  },
  {
   "cell_type": "markdown",
   "metadata": {},
   "source": [
    "---"
   ]
  },
  {
   "cell_type": "code",
   "execution_count": null,
   "metadata": {},
   "outputs": [],
   "source": [
    "# Be sure to run this cell when you are finished. Thank you.\n",
    "client.close()"
   ]
  },
  {
   "cell_type": "markdown",
   "metadata": {},
   "source": [
    "# Save your notebook, then `File > Close and Halt`"
   ]
  },
  {
   "cell_type": "markdown",
   "metadata": {},
   "source": [
    "---"
   ]
  }
 ],
 "metadata": {
  "kernelspec": {
   "display_name": "Python 3",
   "language": "python",
   "name": "python3"
  },
  "language_info": {
   "codemirror_mode": {
    "name": "ipython",
    "version": 3
   },
   "file_extension": ".py",
   "mimetype": "text/x-python",
   "name": "python",
   "nbconvert_exporter": "python",
   "pygments_lexer": "ipython3",
   "version": "3.7.3"
  }
 },
 "nbformat": 4,
 "nbformat_minor": 2
}
