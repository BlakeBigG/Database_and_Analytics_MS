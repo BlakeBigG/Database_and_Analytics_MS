{
 "cells": [
  {
   "cell_type": "markdown",
   "metadata": {},
   "source": [
    "# Final Project Part - II\n",
    "\n",
    "In this part, we will be implementing the tables and loading data into the tables that we have designed in Part - I. "
   ]
  },
  {
   "cell_type": "markdown",
   "metadata": {},
   "source": [
    "## 3.1 Using DDL, create each of the relations in the postgres server. \n",
    "\n",
    "* Use `dsa_student` database\n",
    "* You are free to use any of the following tools:\n",
    "  * psql\n",
    "      * If you use psql, copy and paste your query in the following cell\n",
    "  * sql magic\n",
    "  * psycopg2\n",
    "  * SQLAlchemy\n",
    "* Add additional cells if required"
   ]
  },
  {
   "cell_type": "code",
   "execution_count": null,
   "metadata": {},
   "outputs": [],
   "source": []
  },
  {
   "cell_type": "markdown",
   "metadata": {},
   "source": [
    "## 3.2 Show the table definitions using psql or querying information_schema.colums catalog\n",
    "* Add additional cells if required"
   ]
  },
  {
   "cell_type": "code",
   "execution_count": null,
   "metadata": {},
   "outputs": [],
   "source": []
  },
  {
   "cell_type": "markdown",
   "metadata": {},
   "source": [
    "## 4.1 Load the data from the given csv file to the relations\n",
    "\n",
    "\n",
    "\n",
    "* Assuming there will be more than one relations, you need to extract a subsets of data from the csv data. As Python may not be your first choice, you can use any languages to create subsets of data. Then store these data into the M8 exercises folder. \n",
    "* After curating the data use any of the following tools to load the data into the tables\n",
    "  * psql\n",
    "      * If you use psql, copy and paste your command/query in the following cell\n",
    "  * sql magic\n",
    "  * psycopg2\n",
    "  * SQLAlchemy\n",
    "* Add additional cells if required"
   ]
  },
  {
   "cell_type": "code",
   "execution_count": null,
   "metadata": {},
   "outputs": [],
   "source": []
  },
  {
   "cell_type": "markdown",
   "metadata": {},
   "source": [
    "## 4.2 For each of the tables, show the number of rows in the table using a sql query\n",
    "\n",
    "* Add additional cells if required"
   ]
  },
  {
   "cell_type": "code",
   "execution_count": null,
   "metadata": {},
   "outputs": [],
   "source": []
  }
 ],
 "metadata": {
  "kernelspec": {
   "display_name": "Python 3",
   "language": "python",
   "name": "python3"
  },
  "language_info": {
   "codemirror_mode": {
    "name": "ipython",
    "version": 3
   },
   "file_extension": ".py",
   "mimetype": "text/x-python",
   "name": "python",
   "nbconvert_exporter": "python",
   "pygments_lexer": "ipython3",
   "version": "3.7.3"
  },
  "latex_envs": {
   "LaTeX_envs_menu_present": true,
   "bibliofile": "biblio.bib",
   "cite_by": "apalike",
   "current_citInitial": 1,
   "eqLabelWithNumbers": true,
   "eqNumInitial": 1,
   "labels_anchors": false,
   "latex_user_defs": false,
   "report_style_numbering": false,
   "user_envs_cfg": false
  },
  "toc": {
   "colors": {
    "hover_highlight": "#DAA520",
    "running_highlight": "#FF0000",
    "selected_highlight": "#FFD700"
   },
   "moveMenuLeft": true,
   "nav_menu": {
    "height": "139.261px",
    "width": "251.989px"
   },
   "navigate_menu": true,
   "number_sections": true,
   "sideBar": true,
   "threshold": 4,
   "toc_cell": true,
   "toc_section_display": "block",
   "toc_window_display": false
  }
 },
 "nbformat": 4,
 "nbformat_minor": 4
}
