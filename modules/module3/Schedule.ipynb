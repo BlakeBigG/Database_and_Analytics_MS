{
 "cells": [
  {
   "cell_type": "markdown",
   "metadata": {},
   "source": [
    "# Module 3: Review of Databases and SQL, Advanced SQL"
   ]
  },
  {
   "cell_type": "markdown",
   "metadata": {},
   "source": [
    "## Topics covered\n",
    "* Query Plans\n",
    "* Joins\n",
    "* Aggregates\n",
    "* Data Indexing\n",
    "\n"
   ]
  },
  {
   "cell_type": "markdown",
   "metadata": {},
   "source": [
    "## Readings\n",
    "\n",
    "#### Review of Foundations (M1-M2)\n",
    "* [Slides: Overview of RDBMS](./resources/M1-01-Intro-to-DBMS.pdf)\n",
    "* [Slides: Entity Relationship Models](./resources/M2-01-ER-Models.pdf)\n",
    "    * [Video](https://www.youtube.com/watch?v=QpdhBUYk7Kk)\n",
    "* [Slides: Refining ERD and ERD to DDL](./resources/M2-02-ERD-to-DDL.pdf)\n",
    "* SQL - Select Review\n",
    "    * [Module 1 Practice](./labs/PostgreSQL.ipynb)  \n",
    "    * [Module 1 Exercice](../module1/exercises/M1_L2-SQL.ipynb)  \n",
    "\n",
    "#### New Topics \n",
    "* Joins\n",
    "  * [W3 Schools](https://www.w3schools.com/sql/sql_join.asp)\n",
    "  * [PostgreSQL](https://www.postgresql.org/docs/10/tutorial-join.html)\n",
    "* Aggregation\n",
    "  * [Aggregation Function](https://www.postgresql.org/docs/10/functions-aggregate.html)\n",
    "* Query Plans\n",
    "  * [Wikipedia](https://en.wikipedia.org/wiki/Query_plan) \n",
    "  * [PostgreSQL](https://www.postgresqltutorial.com/postgresql-explain/)\n",
    "  * [Additional Reading](https://thoughtbot.com/blog/reading-an-explain-analyze-query-plan)\n",
    "* Indexing Data\n",
    "  * [Wikipedia](https://en.wikipedia.org/wiki/Database_index)\n",
    "  * [Data Indexing](https://www.postgresql.org/docs/10/sql-createindex.html)\n",
    "  * [Index-Only Scans](https://www.postgresql.org/docs/10/indexes-index-only-scans.html)\n",
    "      * When reading about scans, think back to query plans!\n",
    "  "
   ]
  },
  {
   "cell_type": "markdown",
   "metadata": {},
   "source": [
    "## Discussions\n",
    "No discussion board posts on canvas this week."
   ]
  },
  {
   "cell_type": "markdown",
   "metadata": {},
   "source": [
    "\n",
    "## Labs, Practices and Exercises\n",
    "\n",
    "\n",
    "### Labs\n",
    "\n",
    " * [Joins](./labs/M3-L1-Joins.ipynb)\n",
    " * [Aggregations](./labs/M3-L2-Aggregations.ipynb)\n",
    " * [Query Plans](./labs/M3-L3-QueryExecutionPlan.ipynb)\n"
   ]
  },
  {
   "cell_type": "markdown",
   "metadata": {},
   "source": [
    "### Practices\n",
    "\n",
    " * [Joins Lab Extension with Your Turns](./practices/M3-P1-Joins.ipynb)\n",
    " * [Joins Practice](./practices/M3-P2-Joins.ipynb)\n",
    " * [Basic Aggregates Lab Extension with Your Turns](./practices/M3-P3-Aggregations.ipynb) \n"
   ]
  },
  {
   "cell_type": "markdown",
   "metadata": {},
   "source": [
    "### Exercises\n",
    "\n",
    " * [Joins](./exercises/M3-E1-Joins.ipynb)\n",
    " * [Aggregates](./exercises/M3-E2-Aggregations.ipynb) \n",
    " "
   ]
  },
  {
   "cell_type": "markdown",
   "metadata": {},
   "source": [
    "## Submitting  work\n",
    "\n",
    "#### Steps:\n",
    "  1. Open Terminal in JupyterHub\n",
    "  1. Change into the course folder  \n",
    "  1. Stage (Git Add) the module's exercise work   \n",
    "  `git  add   modules/module3/practices modules/module3/exercises`\n",
    "  1. Create your work snapshot (Git Commit)  \n",
    "  `git   commit   -m   \"Module 3 submission\"`\n",
    "  1. Upload the snapshot to the server (Git Push)  \n",
    "  `git   push`\n"
   ]
  }
 ],
 "metadata": {
  "kernelspec": {
   "display_name": "Python 3",
   "language": "python",
   "name": "python3"
  },
  "language_info": {
   "codemirror_mode": {
    "name": "ipython",
    "version": 3
   },
   "file_extension": ".py",
   "mimetype": "text/x-python",
   "name": "python",
   "nbconvert_exporter": "python",
   "pygments_lexer": "ipython3",
   "version": "3.7.3"
  }
 },
 "nbformat": 4,
 "nbformat_minor": 2
}
