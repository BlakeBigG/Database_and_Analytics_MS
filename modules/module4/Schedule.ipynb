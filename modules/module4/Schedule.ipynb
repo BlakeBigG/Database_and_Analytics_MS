{
 "cells": [
  {
   "cell_type": "markdown",
   "metadata": {},
   "source": [
    "# Module 4: Advanced SQL - Nested Queries"
   ]
  },
  {
   "cell_type": "markdown",
   "metadata": {},
   "source": [
    "## Topics covered\n",
    "* Review of Foundations\n",
    "* Nested Queries\n",
    "* Table Expressions\n",
    "* Advanced Statistics with Aggregates\n"
   ]
  },
  {
   "cell_type": "markdown",
   "metadata": {},
   "source": [
    "## Readings\n",
    "\n",
    "* [Nested Queries, aka Subqueries](../module4/resources/NestedQueries.ipynb)\n",
    "* [Table Expressions](../module4/resources/TableExpressions.ipynb)"
   ]
  },
  {
   "cell_type": "markdown",
   "metadata": {},
   "source": [
    "## Discussions\n",
    "No discussion board posts on canvas this week."
   ]
  },
  {
   "cell_type": "markdown",
   "metadata": {},
   "source": [
    "\n",
    "## Labs, Practices and Exercises\n",
    "\n",
    "\n",
    "#### Review of Foundations\n",
    "* [SQL - Select](../module1/practices/PostgreSQL.ipynb)  \n",
    "* [Joins](../module3/practices/M3-P2-Joins.ipynb)\n",
    "* [Basic Aggregates](../module3/practices/M3-P3-Aggregations.ipynb) \n",
    "* [Query Plans](../module3/labs/M3-L3-QueryExecutionPlan.ipynb) \n",
    "\n",
    "\n"
   ]
  },
  {
   "cell_type": "markdown",
   "metadata": {},
   "source": [
    "### Labs\n",
    "\n",
    "#### Basic Nested Queries\n",
    " * [Nested Subqueries : Type I / Uncorrelated Nested Queries](./labs/M3-L3-TypeI.ipynb)\n",
    " * [Nested Subqueries : Type II / Correlated Nested Queries](./labs/M3-L3-TypeII.ipynb)\n",
    "\n",
    "#### Table Expressions\n",
    " * [Nested Table Expressions / Computed Table Expressions](./labs/M3-L3-NestedTableExpressions.ipynb)\n",
    "\n",
    "\n"
   ]
  },
  {
   "cell_type": "markdown",
   "metadata": {},
   "source": [
    "### Practices \n",
    "\n",
    "\n",
    "#### Basic Nested Queries\n",
    " * [Nested Subqueries : Type I Lab Extension with Your Turns](./practices/Nesting-TypeI.ipynb)\n",
    " * [Nested Subqueries : Type II Lab Extension with Your Turns](./practices/Nesting-TypeII.ipynb)\n",
    "\n",
    "\n",
    "#### Table Expressions\n",
    " * [Nested Table Expressions](./practices/NestedTableExpressions.ipynb)\n",
    "\n"
   ]
  },
  {
   "cell_type": "markdown",
   "metadata": {},
   "source": [
    "### Exercises\n",
    "\n",
    "  * [Nested Queries](./exercises/Nested.ipynb)\n"
   ]
  },
  {
   "cell_type": "markdown",
   "metadata": {},
   "source": [
    "## Submitting  work\n",
    "\n",
    "#### Steps:\n",
    "  1. Open Terminal in JupyterHub\n",
    "  1. Change into the course folder  \n",
    "  1. Stage (Git Add) the module's exercise work   \n",
    "  `git  add   modules/module4/practices modules/module4/exercises`\n",
    "  1. Create your work snapshot (Git Commit)  \n",
    "  `git   commit   -m   \"Module 4 submission\"`\n",
    "  1. Upload the snapshot to the server (Git Push)  \n",
    "  `git   push`\n"
   ]
  }
 ],
 "metadata": {
  "kernelspec": {
   "display_name": "Python 3",
   "language": "python",
   "name": "python3"
  },
  "language_info": {
   "codemirror_mode": {
    "name": "ipython",
    "version": 3
   },
   "file_extension": ".py",
   "mimetype": "text/x-python",
   "name": "python",
   "nbconvert_exporter": "python",
   "pygments_lexer": "ipython3",
   "version": "3.7.3"
  }
 },
 "nbformat": 4,
 "nbformat_minor": 2
}
