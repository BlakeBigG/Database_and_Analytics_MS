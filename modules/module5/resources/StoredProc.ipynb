{
 "cells": [
  {
   "cell_type": "markdown",
   "metadata": {
    "toc": "true"
   },
   "source": [
    "# Table of Contents\n",
    " <p><div class=\"lev1 toc-item\"><a href=\"#Stored-Procedures-and-Functions\" data-toc-modified-id=\"Stored-Procedures-and-Functions-1\"><span class=\"toc-item-num\">1&nbsp;&nbsp;</span>Stored Procedures and Functions</a></div><div class=\"lev2 toc-item\"><a href=\"#Techopedia-explains-Stored-Procedure\" data-toc-modified-id=\"Techopedia-explains-Stored-Procedure-11\"><span class=\"toc-item-num\">1.1&nbsp;&nbsp;</span>Techopedia explains Stored Procedure</a></div><div class=\"lev2 toc-item\"><a href=\"#Comparison-of-Stored-Procedures-versus-Dynamic-SQL\" data-toc-modified-id=\"Comparison-of-Stored-Procedures-versus-Dynamic-SQL-12\"><span class=\"toc-item-num\">1.2&nbsp;&nbsp;</span>Comparison of Stored Procedures versus Dynamic SQL</a></div><div class=\"lev4 toc-item\"><a href=\"#(from-Wikipedia)\" data-toc-modified-id=\"(from-Wikipedia)-1201\"><span class=\"toc-item-num\">1.2.0.1&nbsp;&nbsp;</span>(from Wikipedia)</a></div><div class=\"lev3 toc-item\"><a href=\"#Overhead\" data-toc-modified-id=\"Overhead-121\"><span class=\"toc-item-num\">1.2.1&nbsp;&nbsp;</span>Overhead</a></div><div class=\"lev3 toc-item\"><a href=\"#Avoiding-network-traffic\" data-toc-modified-id=\"Avoiding-network-traffic-122\"><span class=\"toc-item-num\">1.2.2&nbsp;&nbsp;</span>Avoiding network traffic</a></div><div class=\"lev3 toc-item\"><a href=\"#Encapsulating-business-logic\" data-toc-modified-id=\"Encapsulating-business-logic-123\"><span class=\"toc-item-num\">1.2.3&nbsp;&nbsp;</span>Encapsulating business logic</a></div><div class=\"lev3 toc-item\"><a href=\"#Delegating-access-rights\" data-toc-modified-id=\"Delegating-access-rights-124\"><span class=\"toc-item-num\">1.2.4&nbsp;&nbsp;</span>Delegating access-rights</a></div><div class=\"lev3 toc-item\"><a href=\"#Some-protection-from-SQL-injection-attacks\" data-toc-modified-id=\"Some-protection-from-SQL-injection-attacks-125\"><span class=\"toc-item-num\">1.2.5&nbsp;&nbsp;</span>Some protection from SQL injection attacks</a></div><div class=\"lev2 toc-item\"><a href=\"#Disadvantages\" data-toc-modified-id=\"Disadvantages-13\"><span class=\"toc-item-num\">1.3&nbsp;&nbsp;</span>Disadvantages</a></div><div class=\"lev4 toc-item\"><a href=\"#(from-Wikipedia)\" data-toc-modified-id=\"(from-Wikipedia)-1301\"><span class=\"toc-item-num\">1.3.0.1&nbsp;&nbsp;</span>(from Wikipedia)</a></div>"
   ]
  },
  {
   "cell_type": "markdown",
   "metadata": {},
   "source": [
    "# Stored Procedures and Functions\n",
    "\n",
    "The primary database interaction modality is the _declarative_ SQL statement.\n",
    "However, there exist use-cases that benefit from procedural processing within a database.\n",
    "Therefore, most major relational database systems (e.g., SQL Server, Oracle, MySQL, PostgreSQL and others) provide support for stored procedures.\n",
    "\n",
    "\n",
    "A stored procedure is a subroutine available to users and applications connected to relational database management system (RDMS). \n",
    "Stored procedures  procedures are stored in the database data dictionary.\n",
    "They must be called or invoked, as they are sets of SQL and programming commands that perform very specific functions. \n",
    "\n",
    "\n",
    "Often, the alternative to stored procedures is the generation of _dynamic SQL_ within procedural languages, which then interact with the database via connections.\n"
   ]
  },
  {
   "cell_type": "markdown",
   "metadata": {
    "collapsed": true
   },
   "source": [
    "\n",
    "## Techopedia explains Stored Procedure\n",
    "\n",
    "Stored procedures are used when an application needs to perform a complex task using relational database information. \n",
    "An example might be a loan loan application to determine a customer’s repayment ability and creditworthiness. \n",
    "To check the customer’s repayment ability, the loan officer compares the customer’s average monthly income to his monthly account withdrawal sum over a 24-month period. \n",
    "To verify creditworthiness, the loan officer submits the customer’s ID or social security number to a credit reporting website.\n",
    "\n",
    "Both actions above are complex and difficult to achieve using basic SQL commands. \n",
    "In addition, the customer loan approval process may be performed at varying times for different customers (i.e., the same action is repeated several times), but different customer information is associated with each action.\n",
    "\n",
    "The above situation is an ideal example of when stored procedures should be used--i.e., when performing a complex action using a combination of SQL, Procedural Language/Structured Query Language (PL/SQL) or external programming language, e.g., _Python_, PHP, C/C++. \n",
    "Second, the same action is performed repeatedly, and the only changes are the parameters or data to be processed.\n",
    "\n",
    "Stored procedures usually provide a performance benefit over writing application code, for the following two reasons:\n",
    "  1. They do not incur extra inter-program communication between the database and external application.\n",
    "  1. Do not need to be compiled and executed for each instance, as storedprocs are compiled only once.\n",
    "\n"
   ]
  },
  {
   "cell_type": "markdown",
   "metadata": {
    "collapsed": true
   },
   "source": [
    "## Comparison of Stored Procedures versus Dynamic SQL \n",
    "#### (from Wikipedia)\n",
    "\n",
    "### Overhead\n",
    "Because stored procedure statements are stored directly in the database, they may remove all or part of the compiling overhead that is typically needed in situations where software applications send inline (dynamic) SQL queries to a database. \n",
    "However, most database systems implement statement caches and other methods to avoid repetitively compiling dynamic SQL statements. \n",
    "Also, while they avoid some pre-compiled SQL, statements add to the complexity of creating an optimal execution plan because not all arguments of the SQL statement are supplied at compile time. \n",
    "Depending on the specific database implementation and configuration, mixed performance results will be seen from stored procedures versus generic queries or user defined functions.\n",
    "\n",
    "### Avoiding network traffic\n",
    "A major advantage of stored procedures is that they can run directly within the database engine. \n",
    "In a production system, this typically means that the procedures run entirely on a specialized database server, which has direct access to the data being accessed. \n",
    "The benefit here is that network communication costs can be avoided completely. \n",
    "This becomes more important for complex series of SQL statements.\n",
    "\n",
    "### Encapsulating business logic\n",
    "Stored procedures allow programmers to embed business logic as an API in the database, which can simplify data management and reduce the need to encode the logic elsewhere in client programs. \n",
    "This can result in a lesser likelihood of data corruption by faulty client programs. \n",
    "The database system can ensure data integrity and consistency with the help of stored procedures.\n",
    "\n",
    "### Delegating access-rights\n",
    "In many systems, stored procedures can be granted access rights to the database that users who execute those procedures do not directly have.\n",
    "\n",
    "### Some protection from SQL injection attacks\n",
    "Stored procedures can be used to protect against injection attacks. \n",
    "Stored procedure parameters will be treated as data even if an attacker inserts SQL commands. \n",
    "Also, some DBMS will check the parameter's type. \n",
    "However, a stored procedure that in turn generates dynamic SQL using the input is still vulnerable to SQL injections unless proper precautions are taken. "
   ]
  },
  {
   "cell_type": "markdown",
   "metadata": {
    "collapsed": true
   },
   "source": [
    "## Disadvantages\n",
    "#### (from Wikipedia)\n",
    "\n",
    " * Stored procedure languages are often vendor-specific. Changing database vendors usually requires rewriting existing stored procedures.\n",
    " * Stored procedure languages from different vendors have different levels of sophistication.\n",
    "     * For example, Postgres' pgpsql has more language features (especially via extensions) than Microsoft's T-SQL.[citation needed]\n",
    " * Tool support for writing and debugging stored procedures is often not as good as for other programming languages, but this differs between vendors and languages.\n",
    "     * For example, both PL/SQL and T-SQL have dedicated IDEs and debuggers. PL/PgSQL can be debugged from various IDEs.\n",
    " * Changes to stored procedures are harder to keep track of within a version control system than other code. Changes must be reproduced as scripts to be stored in the project history to be included, and differences in procedures can be harder to merge and track correctly.\n",
    "\n"
   ]
  }
 ],
 "metadata": {
  "kernelspec": {
   "display_name": "Python 3",
   "language": "python",
   "name": "python3"
  },
  "language_info": {
   "codemirror_mode": {
    "name": "ipython",
    "version": 3
   },
   "file_extension": ".py",
   "mimetype": "text/x-python",
   "name": "python",
   "nbconvert_exporter": "python",
   "pygments_lexer": "ipython3",
   "version": "3.7.7"
  },
  "latex_envs": {
   "LaTeX_envs_menu_present": true,
   "bibliofile": "biblio.bib",
   "cite_by": "apalike",
   "current_citInitial": 1,
   "eqLabelWithNumbers": true,
   "eqNumInitial": 1,
   "labels_anchors": false,
   "latex_user_defs": false,
   "report_style_numbering": false,
   "user_envs_cfg": false
  },
  "toc": {
   "colors": {
    "hover_highlight": "#DAA520",
    "running_highlight": "#FF0000",
    "selected_highlight": "#FFD700"
   },
   "moveMenuLeft": true,
   "nav_menu": {
    "height": "211.989px",
    "width": "251.989px"
   },
   "navigate_menu": true,
   "number_sections": true,
   "sideBar": true,
   "threshold": 4,
   "toc_cell": true,
   "toc_section_display": "block",
   "toc_window_display": false
  }
 },
 "nbformat": 4,
 "nbformat_minor": 1
}
