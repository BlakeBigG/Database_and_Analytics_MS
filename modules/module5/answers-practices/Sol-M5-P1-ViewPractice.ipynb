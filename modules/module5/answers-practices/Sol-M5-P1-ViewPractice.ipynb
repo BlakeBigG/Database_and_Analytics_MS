{
 "cells": [
  {
   "cell_type": "markdown",
   "metadata": {},
   "source": [
    "# Views Practice\n",
    "\n",
    "\n",
    "This practice requires you to have completed the task of Module 2, Exercise [Database Create and Load](../../module2/exercises/CreateAndLoadSurveyDB.ipynb).\n",
    "\n",
    "Recall from the exercise that you loaded this [survey.db.sql](../../module2/exercises//survey.db.sql) file.\n",
    "This created the familiar Survey database with the tables:\n",
    " * Person\n",
    " * Site\n",
    " * Visited\n",
    " * Survey\n",
    " \n",
    " \n",
    "For this practice, you will create a couple views over the Survey tables.\n"
   ]
  },
  {
   "cell_type": "markdown",
   "metadata": {},
   "source": [
    "<div class=\"row\">\n",
    "<div class=\"col-md-6\">\n",
    "\n",
    "<p>  \n",
    "<strong>Person</strong>: people who took readings.</p>\n",
    "\n",
    "<table>\n",
    "<thead>\n",
    "<tr>\n",
    "<th>id</th>\n",
    "<th>personal</th>\n",
    "<th>family</th>\n",
    "</tr>\n",
    "</thead>\n",
    "<tbody>\n",
    "<tr>\n",
    "<td>dyer</td>\n",
    "<td>William</td>\n",
    "<td>Dyer</td>\n",
    "</tr>\n",
    "<tr>\n",
    "<td>pb</td>\n",
    "<td>Frank</td>\n",
    "<td>Pabodie</td>\n",
    "</tr>\n",
    "<tr>\n",
    "<td>lake</td>\n",
    "<td>Anderson</td>\n",
    "<td>Lake</td>\n",
    "</tr>\n",
    "<tr>\n",
    "<td>roe</td>\n",
    "<td>Valentina</td>\n",
    "<td>Roerich</td>\n",
    "</tr>\n",
    "<tr>\n",
    "<td>danforth</td>\n",
    "<td>Frank</td>\n",
    "<td>Danforth</td>\n",
    "</tr>\n",
    "</tbody>\n",
    "</table>\n",
    "\n",
    "\n",
    "<strong>Site</strong>: locations where readings were taken.</p>\n",
    "\n",
    "<table>\n",
    "<thead>\n",
    "<tr>\n",
    "<th>name</th>\n",
    "<th>lat</th>\n",
    "<th>long</th>\n",
    "</tr>\n",
    "</thead>\n",
    "<tbody>\n",
    "<tr>\n",
    "<td>DR-1</td>\n",
    "<td>-49.85</td>\n",
    "<td>-128.57</td>\n",
    "</tr>\n",
    "<tr>\n",
    "<td>DR-3</td>\n",
    "<td>-47.15</td>\n",
    "<td>-126.72</td>\n",
    "</tr>\n",
    "<tr>\n",
    "<td>MSK-4</td>\n",
    "<td>-48.87</td>\n",
    "<td>-123.4</td>\n",
    "</tr>\n",
    "</tbody>\n",
    "</table>\n",
    "\n",
    "<p><strong>Visited</strong>: when readings were taken at specific sites.</p>\n",
    "\n",
    "<table>\n",
    "<thead>\n",
    "<tr>\n",
    "<th>id</th>\n",
    "<th>site</th>\n",
    "<th>dated</th>\n",
    "</tr>\n",
    "</thead>\n",
    "<tbody>\n",
    "<tr>\n",
    "<td>619</td>\n",
    "<td>DR-1</td>\n",
    "<td>1927-02-08</td>\n",
    "</tr>\n",
    "<tr>\n",
    "<td>622</td>\n",
    "<td>DR-1</td>\n",
    "<td>1927-02-10</td>\n",
    "</tr>\n",
    "<tr>\n",
    "<td>734</td>\n",
    "<td>DR-3</td>\n",
    "<td>1930-01-07</td>\n",
    "</tr>\n",
    "<tr>\n",
    "<td>735</td>\n",
    "<td>DR-3</td>\n",
    "<td>1930-01-12</td>\n",
    "</tr>\n",
    "<tr>\n",
    "<td>751</td>\n",
    "<td>DR-3</td>\n",
    "<td>1930-02-26</td>\n",
    "</tr>\n",
    "<tr>\n",
    "<td>752</td>\n",
    "<td>DR-3</td>\n",
    "<td>-null-</td>\n",
    "</tr>\n",
    "<tr>\n",
    "<td>837</td>\n",
    "<td>MSK-4</td>\n",
    "<td>1932-01-14</td>\n",
    "</tr>\n",
    "<tr>\n",
    "<td>844</td>\n",
    "<td>DR-1</td>\n",
    "<td>1932-03-22</td>\n",
    "</tr>\n",
    "</tbody>\n",
    "</table>\n",
    "\n",
    "</div>\n",
    "<div class=\"col-md-6\">\n",
    "\n",
    "<p><strong>Survey</strong>: the actual readings.</p>\n",
    "\n",
    "<table>\n",
    "<thead>\n",
    "<tr>\n",
    "<th>taken</th>\n",
    "<th>person</th>\n",
    "<th>quant</th>\n",
    "<th>reading</th>\n",
    "</tr>\n",
    "</thead>\n",
    "<tbody>\n",
    "<tr>\n",
    "<td>619</td>\n",
    "<td>dyer</td>\n",
    "<td>rad</td>\n",
    "<td>9.82</td>\n",
    "</tr>\n",
    "<tr>\n",
    "<td>619</td>\n",
    "<td>dyer</td>\n",
    "<td>sal</td>\n",
    "<td>0.13</td>\n",
    "</tr>\n",
    "<tr>\n",
    "<td>622</td>\n",
    "<td>dyer</td>\n",
    "<td>rad</td>\n",
    "<td>7.8</td>\n",
    "</tr>\n",
    "<tr>\n",
    "<td>622</td>\n",
    "<td>dyer</td>\n",
    "<td>sal</td>\n",
    "<td>0.09</td>\n",
    "</tr>\n",
    "<tr>\n",
    "<td>734</td>\n",
    "<td>pb</td>\n",
    "<td>rad</td>\n",
    "<td>8.41</td>\n",
    "</tr>\n",
    "<tr>\n",
    "<td>734</td>\n",
    "<td>lake</td>\n",
    "<td>sal</td>\n",
    "<td>0.05</td>\n",
    "</tr>\n",
    "<tr>\n",
    "<td>734</td>\n",
    "<td>pb</td>\n",
    "<td>temp</td>\n",
    "<td>-21.5</td>\n",
    "</tr>\n",
    "<tr>\n",
    "<td>735</td>\n",
    "<td>pb</td>\n",
    "<td>rad</td>\n",
    "<td>7.22</td>\n",
    "</tr>\n",
    "<tr>\n",
    "<td>735</td>\n",
    "<td>-null-</td>\n",
    "<td>sal</td>\n",
    "<td>0.06</td>\n",
    "</tr>\n",
    "<tr>\n",
    "<td>735</td>\n",
    "<td>-null-</td>\n",
    "<td>temp</td>\n",
    "<td>-26.0</td>\n",
    "</tr>\n",
    "<tr>\n",
    "<td>751</td>\n",
    "<td>pb</td>\n",
    "<td>rad</td>\n",
    "<td>4.35</td>\n",
    "</tr>\n",
    "<tr>\n",
    "<td>751</td>\n",
    "<td>pb</td>\n",
    "<td>temp</td>\n",
    "<td>-18.5</td>\n",
    "</tr>\n",
    "<tr>\n",
    "<td>751</td>\n",
    "<td>lake</td>\n",
    "<td>sal</td>\n",
    "<td>0.1</td>\n",
    "</tr>\n",
    "<tr>\n",
    "<td>752</td>\n",
    "<td>lake</td>\n",
    "<td>rad</td>\n",
    "<td>2.19</td>\n",
    "</tr>\n",
    "<tr>\n",
    "<td>752</td>\n",
    "<td>lake</td>\n",
    "<td>sal</td>\n",
    "<td>0.09</td>\n",
    "</tr>\n",
    "<tr>\n",
    "<td>752</td>\n",
    "<td>lake</td>\n",
    "<td>temp</td>\n",
    "<td>-16.0</td>\n",
    "</tr>\n",
    "<tr>\n",
    "<td>752</td>\n",
    "<td>roe</td>\n",
    "<td>sal</td>\n",
    "<td>41.6</td>\n",
    "</tr>\n",
    "<tr>\n",
    "<td>837</td>\n",
    "<td>lake</td>\n",
    "<td>rad</td>\n",
    "<td>1.46</td>\n",
    "</tr>\n",
    "<tr>\n",
    "<td>837</td>\n",
    "<td>lake</td>\n",
    "<td>sal</td>\n",
    "<td>0.21</td>\n",
    "</tr>\n",
    "<tr>\n",
    "<td>837</td>\n",
    "<td>roe</td>\n",
    "<td>sal</td>\n",
    "<td>22.5</td>\n",
    "</tr>\n",
    "<tr>\n",
    "<td>844</td>\n",
    "<td>roe</td>\n",
    "<td>rad</td>\n",
    "<td>11.25</td>\n",
    "</tr>\n",
    "</tbody>\n",
    "</table>\n",
    "\n",
    "</div>\n",
    "</div>\n"
   ]
  },
  {
   "cell_type": "markdown",
   "metadata": {},
   "source": [
    "Open a terminal tab and connect to your schema in the `dsa_student` database on the `pgsql.dsa.lan` machine.\n",
    "\n",
    "#### Recall from the lab the CREATE VIEW syntax, noting we are using CREATE OR REPLACE\n",
    "\n",
    "```SQL\n",
    "CREATE OR REPLACE VIEW SSO.VIEW_NAME \n",
    "AS \n",
    "SELECT_STATEMENT\n",
    "```\n",
    "\n",
    "Specifically, we created the `survey_view`:\n",
    "\n",
    "```SQL\n",
    "CREATE OR REPLACE VIEW SSO.survey_view\n",
    "AS\n",
    "SELECT * \n",
    "FROM SSO.survey s \n",
    "JOIN SSO.visited v ON (v.id::int = s.taken::int) \n",
    "JOIN SSO.person p ON (s.person=p.id);\n",
    "```\n",
    "\n",
    "You will define and create a couple Views below.  In each case, you will use the three steps:\n",
    " 1. The Create View Statement\n",
    " 2. The view definition on psql `\\d+ SSO.view_name` or probe `information_schema.views` `information_schema.columns`\n",
    " 3. The result of `select * from SSO.view_name`\n",
    " \n",
    "Be sure to remove redundant columns and rename columns to clear up ambiguities!"
   ]
  },
  {
   "cell_type": "markdown",
   "metadata": {},
   "source": [
    "Let's connect to the database first. "
   ]
  },
  {
   "cell_type": "code",
   "execution_count": null,
   "metadata": {},
   "outputs": [],
   "source": [
    "# Initialize some variables\n",
    "SSO=\"YOUR_PAWPRINT_GOES_HERE\"\n",
    "hostname='pgsql.dsa.lan'\n",
    "database='dsa_student'"
   ]
  },
  {
   "cell_type": "code",
   "execution_count": null,
   "metadata": {},
   "outputs": [],
   "source": [
    "# Read the Password into mem for a moment\n",
    "import getpass\n",
    "read_password = getpass.getpass(\"Type Password and hit enter\")"
   ]
  },
  {
   "cell_type": "code",
   "execution_count": null,
   "metadata": {},
   "outputs": [],
   "source": [
    "connection_string = f\"postgres://{SSO}:{read_password}@{hostname}/{database}\""
   ]
  },
  {
   "cell_type": "code",
   "execution_count": null,
   "metadata": {},
   "outputs": [],
   "source": [
    "%load_ext sql\n",
    "%sql $connection_string "
   ]
  },
  {
   "cell_type": "markdown",
   "metadata": {},
   "source": [
    "## 1 Create a view of the all readings and their time from the `DR-1` site.\n",
    "\n",
    "**1.1. We are going to create and name this view as `dr1_measurements`**"
   ]
  },
  {
   "cell_type": "code",
   "execution_count": null,
   "metadata": {},
   "outputs": [],
   "source": [
    "%%sql\n",
    "\n",
    "\n",
    "CREATE OR REPLACE VIEW dr1_measurements\n",
    "AS\n",
    "SELECT v.dated as date_taken\n",
    "    , s.quant, s.reading\n",
    "FROM visited v JOIN survey s ON (v.id::int=s.taken::int)\n",
    "WHERE v.site='DR-1';\n",
    "\n"
   ]
  },
  {
   "cell_type": "markdown",
   "metadata": {},
   "source": [
    "**1.2 Retrieve information about this view from the information_schema.views and information_schema.columns catalogs.**"
   ]
  },
  {
   "cell_type": "code",
   "execution_count": null,
   "metadata": {},
   "outputs": [],
   "source": [
    "%%sql\n",
    "\n",
    "-- select * \n",
    "select table_schema, table_name, view_definition\n",
    "from information_schema.views\n",
    "where table_name = 'dr1_measurements'\n",
    "\n"
   ]
  },
  {
   "cell_type": "code",
   "execution_count": null,
   "metadata": {},
   "outputs": [],
   "source": [
    "%%sql\n",
    "\n",
    "-- SELECT * \n",
    "SELECT table_name, column_name, data_type, column_default, is_nullable \n",
    "FROM \n",
    "   information_schema.columns\n",
    "WHERE \n",
    "   table_name = 'dr1_measurements';\n",
    "    "
   ]
  },
  {
   "cell_type": "markdown",
   "metadata": {},
   "source": [
    "**1.3. Fetch data from the view**"
   ]
  },
  {
   "cell_type": "code",
   "execution_count": null,
   "metadata": {
    "scrolled": true
   },
   "outputs": [],
   "source": [
    "%%sql \n",
    "\n",
    "select * from dr1_measurements;"
   ]
  },
  {
   "cell_type": "markdown",
   "metadata": {},
   "source": [
    "**1.4. We can also check the view definition via psql on terminal**\n",
    "\n",
    "Command template: \\d+ view_name"
   ]
  },
  {
   "cell_type": "raw",
   "metadata": {},
   "source": []
  },
  {
   "cell_type": "markdown",
   "metadata": {},
   "source": [
    "#### Expected Result View 1 results from psql\n",
    "```SQL\n",
    "                       View \"SSO.dr1_measurements\"\n",
    "   Column   | Type | Collation | Nullable | Default | Storage  | Description\n",
    "------------+------+-----------+----------+---------+----------+-------------\n",
    " date_taken | text |           |          |         | extended |\n",
    " quant      | text |           |          |         | extended |\n",
    " reading    | real |           |          |         | plain    |\n",
    "View definition:\n",
    " SELECT v.dated AS date_taken,\n",
    "    s.quant,\n",
    "    s.reading\n",
    "   FROM visited v\n",
    "     JOIN survey s ON v.id::integer = s.taken\n",
    "  WHERE v.site = 'DR-1'::text;\n",
    "```\n",
    "\n",
    "```\n",
    " date_taken | quant | reading\n",
    "------------+-------+---------\n",
    " 1927-02-08 | rad   |    9.82\n",
    " 1927-02-08 | sal   |    0.13\n",
    " 1927-02-10 | rad   |     7.8\n",
    " 1927-02-10 | sal   |    0.09\n",
    " 1932-03-22 | rad   |   11.25\n",
    "(5 rows)\n",
    "```\n"
   ]
  },
  {
   "cell_type": "markdown",
   "metadata": {},
   "source": [
    "## 2 Create a view that list each `rad` reading from the Survey table along with the associated Latitude and Longitude position from the Site table and the date of the reading.\n",
    "\n",
    "\n",
    "**2.1. We are going to create and name this view as `radiation_location`**"
   ]
  },
  {
   "cell_type": "code",
   "execution_count": null,
   "metadata": {},
   "outputs": [],
   "source": [
    "%%sql\n",
    "\n",
    "CREATE OR REPLACE VIEW radiation_location\n",
    "AS\n",
    "SELECT v.dated as date_taken\n",
    "    , place.lat as latitude\n",
    "    , place.long as longitude\n",
    "    , s.reading as radiation\n",
    "FROM visited v JOIN survey s ON (v.id::int=s.taken::int)\n",
    "    JOIN site as place ON (place.name=v.site)\n",
    "WHERE s.quant='rad';"
   ]
  },
  {
   "cell_type": "markdown",
   "metadata": {},
   "source": [
    "**2.2 Retrieve information about this view from the information_schema.views and information_schema.columns catalogs.**"
   ]
  },
  {
   "cell_type": "code",
   "execution_count": null,
   "metadata": {},
   "outputs": [],
   "source": [
    "%%sql\n",
    "\n",
    "-- select * \n",
    "select table_schema, table_name, view_definition\n",
    "from information_schema.views\n",
    "where table_name = 'radiation_location'\n",
    "\n"
   ]
  },
  {
   "cell_type": "code",
   "execution_count": null,
   "metadata": {},
   "outputs": [],
   "source": [
    "%%sql\n",
    "\n",
    "-- SELECT * \n",
    "SELECT table_name, column_name, data_type, column_default, is_nullable \n",
    "FROM \n",
    "   information_schema.columns\n",
    "WHERE \n",
    "   table_name = 'radiation_location';\n",
    "    "
   ]
  },
  {
   "cell_type": "markdown",
   "metadata": {},
   "source": [
    "**2.3. Fetch data from the view**"
   ]
  },
  {
   "cell_type": "code",
   "execution_count": null,
   "metadata": {
    "scrolled": true
   },
   "outputs": [],
   "source": [
    "%%sql \n",
    "\n",
    "select * from radiation_location;"
   ]
  },
  {
   "cell_type": "markdown",
   "metadata": {},
   "source": [
    "**2.4. (Optional) We can also check the view definition via psql on terminal**\n",
    "\n",
    "Command template: \\d+ view_name"
   ]
  },
  {
   "cell_type": "markdown",
   "metadata": {},
   "source": [
    "## 3 Create a view that list each `rad` reading for the `DR-1` site along with the associated Latitude and Longitude position and the date of the reading.\n",
    "\n",
    "**3.1. We are going to create and name this view as `dr1_radiation`**\n"
   ]
  },
  {
   "cell_type": "code",
   "execution_count": null,
   "metadata": {},
   "outputs": [],
   "source": [
    "%%sql\n",
    "\n",
    "CREATE OR REPLACE VIEW dr1_radiation\n",
    "AS\n",
    "SELECT v.dated as date_taken\n",
    "    , place.lat as latitude\n",
    "    , place.long as longitude\n",
    "    , s.reading as radiation\n",
    "FROM visited v JOIN survey s ON (v.id::int=s.taken::int)\n",
    "    JOIN site as place ON (place.name=v.site)\n",
    "WHERE s.quant='rad' and v.site='DR-1';"
   ]
  },
  {
   "cell_type": "markdown",
   "metadata": {},
   "source": [
    "**3.2 Retrieve information about this view from the information_schema.views and information_schema.columns catalogs.**"
   ]
  },
  {
   "cell_type": "code",
   "execution_count": null,
   "metadata": {},
   "outputs": [],
   "source": [
    "%%sql\n",
    "\n",
    "-- select * \n",
    "select table_schema, table_name, view_definition\n",
    "from information_schema.views\n",
    "where table_name = 'dr1_radiation'\n",
    "\n"
   ]
  },
  {
   "cell_type": "code",
   "execution_count": null,
   "metadata": {},
   "outputs": [],
   "source": [
    "%%sql\n",
    "\n",
    "-- SELECT * \n",
    "SELECT table_name, column_name, data_type, column_default, is_nullable \n",
    "FROM \n",
    "   information_schema.columns\n",
    "WHERE \n",
    "   table_name = 'dr1_radiation';\n",
    "    "
   ]
  },
  {
   "cell_type": "markdown",
   "metadata": {},
   "source": [
    "**2.3. Fetch data from the view**"
   ]
  },
  {
   "cell_type": "code",
   "execution_count": null,
   "metadata": {
    "scrolled": true
   },
   "outputs": [],
   "source": [
    "%%sql \n",
    "\n",
    "select * from dr1_radiation;"
   ]
  },
  {
   "cell_type": "markdown",
   "metadata": {},
   "source": [
    "**3.4. (Optional) We can also check the view definition via psql on terminal**\n",
    "\n",
    "Command template: \\d+ view_name"
   ]
  },
  {
   "cell_type": "markdown",
   "metadata": {},
   "source": [
    "# Save your notebook, then `File > Close and Halt`"
   ]
  }
 ],
 "metadata": {
  "kernelspec": {
   "display_name": "Python 3",
   "language": "python",
   "name": "python3"
  },
  "language_info": {
   "codemirror_mode": {
    "name": "ipython",
    "version": 3
   },
   "file_extension": ".py",
   "mimetype": "text/x-python",
   "name": "python",
   "nbconvert_exporter": "python",
   "pygments_lexer": "ipython3",
   "version": "3.7.3"
  }
 },
 "nbformat": 4,
 "nbformat_minor": 2
}
