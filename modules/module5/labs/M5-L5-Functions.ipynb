{
 "cells": [
  {
   "cell_type": "markdown",
   "metadata": {},
   "source": [
    "# Database Functions\n",
    "\n",
    "Each enterprise grade DBMS supports procedural programming within the database as _functions_ or _procedures_.\n",
    "Each of DBMS has their own language, often with it's unique syntax.\n",
    "Here you will learn the PostgreSQL variation, PL/pgSQL, which is very similar to the Oracle language, PL/SQL.\n",
    "\n",
    "\n",
    "This is the general structure of the PostgreSQL function.\n",
    "\n",
    "```SQL\n",
    "CREATE FUNCTION function_name(... arguments and data types ...)\n",
    "RETURNS return_datatype\n",
    "as\n",
    "$$\n",
    "DECLARE\n",
    "   ... function local variables ... ;\n",
    "BEGIN\n",
    "   ... body of logic ...\n",
    "   \n",
    "   RETURN result_value;\n",
    "END;\n",
    "$$\n",
    "LANGUAGE plpgsql;\n",
    "```   \n",
    "See full documentation at: http://www.postgresql.cn/docs/10/sql-createfunction.html\n",
    "\n"
   ]
  },
  {
   "cell_type": "markdown",
   "metadata": {},
   "source": [
    "For this lab, you will connect to the `dsa_student` database and create functions within your schema, i.e., your pawprint should replace SSO below."
   ]
  },
  {
   "cell_type": "markdown",
   "metadata": {},
   "source": [
    "Note in the function below the following:\n",
    " * The name is SSO.`totalReadings`\n",
    " * We have declared the function will return an integer\n",
    " * The `DECLARE ... BEGIN` is the declaration of local function variables\n",
    " * The `BEGIN ... END;` is the body of the function\n",
    " * The `$$` ... `$$` delineates the non-SQL content\n",
    " * The `LANGUAGE plpgsql` tells the PostgreSQL engine how to parse and interpret the non-SQL content.\n",
    "\n",
    "----\n",
    "\n",
    "```SQL\n",
    "CREATE OR REPLACE FUNCTION SSO.totalReadings ()\n",
    "RETURNS integer AS $$\n",
    "DECLARE\n",
    "    total integer;\n",
    "BEGIN\n",
    "   SELECT count(*) INTO total FROM SSO.survey;\n",
    "   RETURN total;\n",
    "END;\n",
    "$$ LANGUAGE plpgsql;\n",
    "```\n",
    "----\n",
    "\n",
    " * The most important thing to notice in this function is the modification of the `SELECT` statement.\n",
    "   * `INTO total`  signifies we expect a value from the select to go into the local variable.\n"
   ]
  },
  {
   "cell_type": "markdown",
   "metadata": {},
   "source": [
    "### Using Magic Function"
   ]
  },
  {
   "cell_type": "markdown",
   "metadata": {},
   "source": [
    "**Step 1: Connect to the database**"
   ]
  },
  {
   "cell_type": "code",
   "execution_count": null,
   "metadata": {},
   "outputs": [],
   "source": [
    "# Initialize some variables\n",
    "SSO=\"YOUR_PAWPRINT_GOES_HERE\"\n",
    "hostname='pgsql.dsa.lan'\n",
    "database='dsa_student'"
   ]
  },
  {
   "cell_type": "code",
   "execution_count": null,
   "metadata": {},
   "outputs": [],
   "source": [
    "# Read the Password into mem for a moment\n",
    "import getpass\n",
    "read_password = getpass.getpass(\"Type Password and hit enter\")"
   ]
  },
  {
   "cell_type": "code",
   "execution_count": null,
   "metadata": {},
   "outputs": [],
   "source": [
    "connection_string = f\"postgres://{SSO}:{read_password}@{hostname}/{database}\""
   ]
  },
  {
   "cell_type": "code",
   "execution_count": null,
   "metadata": {},
   "outputs": [],
   "source": [
    "%load_ext sql\n",
    "%sql $connection_string "
   ]
  },
  {
   "cell_type": "markdown",
   "metadata": {},
   "source": [
    "**Step 2: Create a Function**"
   ]
  },
  {
   "cell_type": "code",
   "execution_count": null,
   "metadata": {},
   "outputs": [],
   "source": [
    "%%sql \n",
    "\n",
    "CREATE OR REPLACE FUNCTION totalReadings()\n",
    "RETURNS integer AS \n",
    "$$\n",
    "DECLARE\n",
    "    total integer;   -- define a variable total with a data type\n",
    "BEGIN\n",
    "   SELECT count(*) INTO total FROM survey;   -- Note INTO operator\n",
    "   RETURN total;\n",
    "END;\n",
    "$$ \n",
    "LANGUAGE plpgsql;"
   ]
  },
  {
   "cell_type": "markdown",
   "metadata": {},
   "source": [
    "We can now call this function as follows: "
   ]
  },
  {
   "cell_type": "code",
   "execution_count": null,
   "metadata": {},
   "outputs": [],
   "source": [
    "%%sql\n",
    "\n",
    "SELECT totalReadings()"
   ]
  },
  {
   "cell_type": "markdown",
   "metadata": {},
   "source": [
    "We can probe `information_schema.routines` table to retrieve the function definition."
   ]
  },
  {
   "cell_type": "code",
   "execution_count": null,
   "metadata": {},
   "outputs": [],
   "source": [
    "%%sql\n",
    "\n",
    "-- select * \n",
    "select routine_schema, routine_name, routine_type, routine_definition\n",
    "from information_schema.routines\n",
    "where routine_name = 'totalReadings'\n"
   ]
  },
  {
   "cell_type": "markdown",
   "metadata": {},
   "source": [
    "The above comparison `where routine_name = 'totalReadings'` is case-senstive and database the name is stored as `totalreadings`. So we will not get any data. We can execute either of the following. "
   ]
  },
  {
   "cell_type": "code",
   "execution_count": null,
   "metadata": {},
   "outputs": [],
   "source": [
    "%%sql\n",
    "\n",
    "-- select * \n",
    "select routine_schema, routine_name, routine_type, routine_definition\n",
    "from information_schema.routines\n",
    "where routine_name = 'totalreadings'\n"
   ]
  },
  {
   "cell_type": "markdown",
   "metadata": {},
   "source": [
    "Or"
   ]
  },
  {
   "cell_type": "code",
   "execution_count": null,
   "metadata": {},
   "outputs": [],
   "source": [
    "%%sql\n",
    "\n",
    "-- select * \n",
    "select routine_schema, routine_name, routine_type, routine_definition\n",
    "from information_schema.routines\n",
    "where routine_name ilike 'totalReadings'"
   ]
  },
  {
   "cell_type": "markdown",
   "metadata": {},
   "source": [
    "## Using psql Shell (Optional)\n",
    "\n",
    "\n",
    "Step 1: Connect to the database\n",
    "\n",
    "```bash\n",
    "psql -h pgsql.dsa.lan -d dsa_student\n",
    "```\n",
    "\n",
    "We can perform the same task with psql shell. \n",
    "\n",
    "Below is an exmaple of pasting the function into the terminal.\n",
    "\n",
    "Note the \"CREATE FUNCTION\" response from the database.\n",
    "\n",
    "```SQL\n",
    "dsa_student=# CREATE OR REPLACE FUNCTION totalReadings ()\n",
    "dsa_student-# RETURNS integer AS $$\n",
    "dsa_student$# DECLARE\n",
    "dsa_student$#     total integer;\n",
    "dsa_student$# BEGIN\n",
    "dsa_student$#    SELECT count(*) INTO total FROM survey;\n",
    "dsa_student$#    RETURN total;\n",
    "dsa_student$# END;\n",
    "dsa_student$# $$ LANGUAGE plpgsql;\n",
    "CREATE FUNCTION\n",
    "```\n",
    "\n",
    "Then, to execute the function we can call the function as an argument to `SELECT`\n"
   ]
  },
  {
   "cell_type": "markdown",
   "metadata": {},
   "source": [
    "### Expected Output Example\n",
    "\n",
    "```SQL\n",
    "dsa_student=# select totalReadings();\n",
    " totalreadings\n",
    "---------------\n",
    "            21\n",
    "(1 row)\n",
    "```\n",
    "\n",
    "## Now that you have defined a function, let's look into the catalog.\n",
    "\n",
    "Use `\\df` and `\\df+` to review the functions.\n",
    "\n",
    "Examples:\n",
    "\n",
    "-----\n",
    "```SQL\n",
    "dsa_student=# \\df SSO.totalreadings\n",
    "                             List of functions\n",
    " Schema  |     Name      | Result data type | Argument data types |  Type\n",
    "---------+---------------+------------------+---------------------+--------\n",
    " SSO | totalreadings | integer          |                     | normal\n",
    "(1 row)\n",
    "```\n",
    "\n",
    "\n",
    "-----\n",
    "\n",
    "\n",
    "\n",
    "```SQL\n",
    "dsa_student=# \\df+ SSO.totalreadings\n",
    "                                                                                                    List of functions\n",
    " Schema  |     Name      | Result data type | Argument data types |  Type  | Volatility | Parallel |  Owner  | Security\n",
    "| Access privileges | Language |                    Source code                     | Description\n",
    "---------+---------------+------------------+---------------------+--------+------------+----------+---------+----------\n",
    "+-------------------+----------+----------------------------------------------------+-------------\n",
    " SSO | totalreadings | integer          |                     | normal | volatile   | unsafe   | SSO | invoker\n",
    "|                   | plpgsql  |                                                   +|\n",
    "         |               |                  |                     |        |            |          |         |\n",
    "|                   |          | DECLARE                                           +|\n",
    "         |               |                  |                     |        |            |          |         |\n",
    "|                   |          |     total integer;                                +|\n",
    "         |               |                  |                     |        |            |          |         |\n",
    "|                   |          | BEGIN                                             +|\n",
    "         |               |                  |                     |        |            |          |         |\n",
    "|                   |          |    SELECT count(*) INTO total FROM SSO.survey;+|\n",
    "         |               |                  |                     |        |            |          |         |\n",
    "|                   |          |    RETURN total;                                  +|\n",
    "         |               |                  |                     |        |            |          |         |\n",
    "|                   |          | END;                                              +|\n",
    "         |               |                  |                     |        |            |          |         |\n",
    "|                   |          |                                                    |\n",
    "(1 row)\n",
    "```\n",
    "\n",
    "### Your Turn: Describe the function with `\\df` and paste it in the cell below."
   ]
  },
  {
   "cell_type": "raw",
   "metadata": {},
   "source": [
    "# Paste your \\df result here:\n",
    "\n",
    "\n"
   ]
  },
  {
   "cell_type": "markdown",
   "metadata": {},
   "source": [
    "# Save your notebook, then `File > Close and Halt`"
   ]
  }
 ],
 "metadata": {
  "kernelspec": {
   "display_name": "Python 3",
   "language": "python",
   "name": "python3"
  },
  "language_info": {
   "codemirror_mode": {
    "name": "ipython",
    "version": 3
   },
   "file_extension": ".py",
   "mimetype": "text/x-python",
   "name": "python",
   "nbconvert_exporter": "python",
   "pygments_lexer": "ipython3",
   "version": "3.7.3"
  }
 },
 "nbformat": 4,
 "nbformat_minor": 2
}
