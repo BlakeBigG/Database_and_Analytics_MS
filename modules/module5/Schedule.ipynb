{
 "cells": [
  {
   "cell_type": "markdown",
   "metadata": {},
   "source": [
    "# Module 5: Advanced SQL - Views, Advanced Aggregates, Functions, and Triggers"
   ]
  },
  {
   "cell_type": "markdown",
   "metadata": {},
   "source": [
    "## Topics covered\n",
    "* Review of Foundations\n",
    "* Review Nested Queries, Table Expressions, Aggregates\n",
    "* Views\n",
    "* Advanced Aggregates\n",
    "* Procedural Functions and Triggers\n"
   ]
  },
  {
   "cell_type": "markdown",
   "metadata": {},
   "source": [
    "## Readings\n",
    "\n",
    "#### Advanced PostegreSQL Aggregates\n",
    "  * [Hypothetical Set Aggregate](https://www.postgresql.org/docs/10/functions-aggregate.html#FUNCTIONS-HYPOTHETICAL-TABLE)\n",
    "  * [Ordered Set Aggregate](https://www.postgresql.org/docs/10/functions-aggregate.html#FUNCTIONS-ORDEREDSET-TABLE)\n",
    "  * [Grouping Operations](https://www.postgresql.org/docs/10/functions-aggregate.html#FUNCTIONS-GROUPING-TABLE)\n",
    "      * Reference: https://www.postgresqltutorial.com/postgresql-grouping-sets/\n",
    "      * Reference: https://www.blendo.co/blog/postgresql-guide-advanced-grouping/\n",
    "  * Window Functions\n",
    "      * Reference: https://www.postgresqltutorial.com/postgresql-window-function/\n",
    "      * Reference: https://www.postgresql.org/docs/10/tutorial-window.html\n",
    "\n",
    "#### Views\n",
    "* [Notebook: Views as stored Table Expressions](../module5/resources/ViewsAsStoredCTE.ipynb)\n",
    "    * Reference: [General View Concept](https://www.tutorialspoint.com/sql/sql-using-views.htm)\n",
    "    * Reference: [Materialized View](https://en.wikipedia.org/wiki/Materialized_view)\n",
    "    * Reference: [View vs Materialized View](https://www.tutorialspoint.com/difference-between-views-and-materialized-views-in-sql)\n",
    "    \n",
    "\n",
    "#### Functions and Triggers\n",
    " * [Notebook: Stored Procedures and Functions](./resources/StoredProc.ipynb)\n",
    "   * Reference: https://www.tutorialspoint.com/postgresql/postgresql_functions.htm\n",
    "   * Reference: https://www.postgresql.org/docs/10/sql-createfunction.html\n",
    "   \n",
    " * [Notebook: Triggers](./resources/Triggers.ipynb)\n",
    "   * Reference: https://www.tutorialspoint.com/postgresql/postgresql_triggers.htm\n",
    "   * Reference: https://www.postgresql.org/docs/10/plpgsql-trigger.html\n",
    "   * Reference: https://www.postgresql.org/docs/10/sql-createtrigger.html\n"
   ]
  },
  {
   "cell_type": "markdown",
   "metadata": {},
   "source": [
    "## Discussions\n",
    "No discussion board posts on canvas this week."
   ]
  },
  {
   "cell_type": "markdown",
   "metadata": {},
   "source": [
    "\n",
    "## Labs, Practices and Exercises\n",
    "\n",
    "\n",
    "#### Review of Foundations\n",
    "* [Joins](../module3/practices/M3-P2-Joins.ipynb)\n",
    "* [Query Plans](../module3/labs/M3-L3-QueryExecutionPlan.ipynb) \n",
    "* [Nested Table Expressions](../module4/practices/NestedTableExpressions.ipynb)\n",
    "\n",
    "\n"
   ]
  },
  {
   "cell_type": "markdown",
   "metadata": {},
   "source": [
    "### Labs\n",
    "\n",
    "#### Advanced Aggregates (with Your-Turn Practices)\n",
    " * [Advanced Aggregations](./labs/M5-L1-AdvancedAggregations.ipynb)\n",
    " * [Window Functions](./labs/M5-L2-WindowFunctions.ipynb)\n",
    " * [Ordered Set Aggregation](./labs/M5-L3-OrderedSetStatWindowFunctions.ipynb)\n",
    "\n",
    "#### Views\n",
    " * [Views](./labs/M5-L4-Views-Sql-Magic.ipynb)\n",
    "\n",
    "#### Functions and Triggers\n",
    " * [Functions](./labs/M5-L5-Functions.ipynb)\n",
    " * [Triggers](./labs/M5-L6-Triggers.ipynb)\n"
   ]
  },
  {
   "cell_type": "markdown",
   "metadata": {},
   "source": [
    "### Practices \n",
    " * [Veiws](./practices/M5-P1-ViewPractice.ipynb)\n",
    " * [Functions](./practices/M5-P2-FunctionsPractice.ipynb)\n",
    " * [Triggers](./practices/M5-P3-TriggersPractice.ipynb)\n",
    "\n",
    "\n"
   ]
  },
  {
   "cell_type": "markdown",
   "metadata": {},
   "source": [
    "### Exercises\n",
    "\n",
    " * [Advanced Aggregation](./exercises/M5-E1-AdvancedAggregates.ipynb)\n",
    " * [Window Functions](./exercises/M5-E2-WindowFunctions.ipynb)\n",
    " * [Veiws](./exercises/M5-E3-ViewExercise.ipynb)\n",
    " * [Triggers](./exercises/M5-E4-TriggersExercise.ipynb)\n"
   ]
  },
  {
   "cell_type": "markdown",
   "metadata": {},
   "source": [
    "## Submitting  work\n",
    "\n",
    "**Note**: we are submitting labs this week as well as practices and exercises.\n",
    "\n",
    "#### Steps:\n",
    "  1. Open Terminal in JupyterHub\n",
    "  1. Change into the course folder  \n",
    "  1. Stage (Git Add) the module's exercise work   \n",
    "  `git  add modules/module5/labs  modules/module5/practices modules/module5/exercises`\n",
    "  1. Create your work snapshot (Git Commit)  \n",
    "  `git   commit   -m   \"Module 5 submission\"`\n",
    "  1. Upload the snapshot to the server (Git Push)  \n",
    "  `git   push`\n"
   ]
  }
 ],
 "metadata": {
  "kernelspec": {
   "display_name": "Python 3",
   "language": "python",
   "name": "python3"
  },
  "language_info": {
   "codemirror_mode": {
    "name": "ipython",
    "version": 3
   },
   "file_extension": ".py",
   "mimetype": "text/x-python",
   "name": "python",
   "nbconvert_exporter": "python",
   "pygments_lexer": "ipython3",
   "version": "3.7.3"
  }
 },
 "nbformat": 4,
 "nbformat_minor": 2
}
