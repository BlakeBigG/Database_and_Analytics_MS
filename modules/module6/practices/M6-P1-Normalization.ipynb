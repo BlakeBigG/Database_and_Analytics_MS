{
 "cells": [
  {
   "cell_type": "markdown",
   "metadata": {},
   "source": [
    "## Employee database normalization\n",
    "\n",
    "\n",
    "Consider the following Employee_project relatonship. \n",
    "\n",
    "**Employee_project(Name, Project, Task, Office, Floor, Phone):**\n",
    "\n",
    "* Name is the employee’s name\n",
    "* Project is the project they are working on. Bill is working on two different projects, Sue is working on 3.\n",
    "* Task is the current task being worked on. Bill is now working on Tasks T1 and T2. Note that Tasks are independent of the project. Examples of a task might be updating a web site or holding a meeting.\n",
    "* Office is the office number for the employee. Bill works in office number 400.\n",
    "* Floor is the floor on which the office is located.\n",
    "* Phone is the phone extension. Note this is associated with the phone in the given office.\n",
    "\n",
    "\n",
    "\n",
    "#### Example dataset:\n",
    "\n",
    "|Name \t|Project \t|Task \t|Office \t|Floor \t|Phone\n",
    "|---|---|---|---|---|---|\n",
    "|Bill \t|100X \t|T1 \t|400 \t|4 \t|1400\n",
    "|Bill \t|100X \t|T2 \t|400 \t|4 \t|1400\n",
    "|Bill \t|200Y \t|T1 \t|400 \t|4 \t|1400\n",
    "|Bill \t|200Y \t|T2 \t|400 \t|4 \t|1400\n",
    "|Sue \t|100X \t|T33 \t|442 \t|4 \t|1442\n",
    "|Sue \t|200Y \t|T33 \t|442 \t|4 \t|1442\n",
    "|Sue \t|300Z \t|T33 \t|442 \t|4 \t|1442\n",
    "|Ed \t|100X \t|T2 \t|588 \t|5 \t|1588\n",
    "\n",
    "\n"
   ]
  },
  {
   "cell_type": "markdown",
   "metadata": {},
   "source": [
    "### Note\n",
    "\n",
    "* While breaking the above table, give appropriate names to the relations. \n",
    "* You don't need to show tables with data. Just specify the table with the attributes\n",
    "* Justy why the tables are in 1-NF\n",
    "* Add additional cells if required. Use markdown or raw nbcovert as cell type. \n",
    "\n",
    "### 1. Is the above relation in 1-NF? If not, specify the reasons? If required, Decompose the above relation into relations that follow 1-NF.\n",
    "\n"
   ]
  },
  {
   "cell_type": "raw",
   "metadata": {},
   "source": [
    "Yes."
   ]
  },
  {
   "cell_type": "markdown",
   "metadata": {},
   "source": [
    "### 2. Is the above relation in 1-NF are also in 2-NF? If not, specify the reasons? If required, decompose the relations into 2-NF.\n",
    "\n"
   ]
  },
  {
   "cell_type": "raw",
   "metadata": {},
   "source": [
    "No. There is partial dependency in the table. The primary key is {Name, Project, Task}. Other dependencies include:\n",
    "\n",
    "    {name} ==> {office} # partial dependency\n",
    "    {name} ==> {floor} # partial dependency\n",
    "    {name} ==> {phone} # partial dependency\n",
    "    {office} ==> {phone}\n",
    "\n",
    "To decompose into 2-NF, make the following tables:\n",
    "\n",
    "    Employee_project(Name, Project, Table) with primary key {Name, Project, Task}\n",
    "    Employee_info(Name, Office, Floor, Phone) with primary key {name}"
   ]
  },
  {
   "cell_type": "markdown",
   "metadata": {},
   "source": [
    "### 3. Are the above relations in 3-NF? If not, specify the reasons? If required, decompose the relations into 3-NF."
   ]
  },
  {
   "cell_type": "raw",
   "metadata": {},
   "source": [
    "Employee_project(Name, Project, Task) is in 3-NF, but Employee_info(Name, Office, Floor, Phone) is not, because there is a transitive dependency in this table.\n",
    "\n",
    "    {name} ==> {office} and {office} ==> {phone} # transitive dependency\n",
    "\n",
    "We can decompose Employee_info(Name, Office, Floor, Phone) using {office}. The tables in 3-NF are:\n",
    "\n",
    "    Employee_project(Name, Project, Table) with primary key {Name, Project, Task}\n",
    "    Employee_info(Name, Office, Floor) with primary key {Name}\n",
    "    Office_info(Office, Phone) with primary key {Name}"
   ]
  }
 ],
 "metadata": {
  "kernelspec": {
   "display_name": "Python 3",
   "language": "python",
   "name": "python3"
  },
  "language_info": {
   "codemirror_mode": {
    "name": "ipython",
    "version": 3
   },
   "file_extension": ".py",
   "mimetype": "text/x-python",
   "name": "python",
   "nbconvert_exporter": "python",
   "pygments_lexer": "ipython3",
   "version": "3.7.3"
  }
 },
 "nbformat": 4,
 "nbformat_minor": 2
}
