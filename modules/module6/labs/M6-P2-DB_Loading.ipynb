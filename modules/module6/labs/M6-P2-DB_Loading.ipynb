{
 "cells": [
  {
   "cell_type": "markdown",
   "metadata": {},
   "source": [
    "# Loading a Database"
   ]
  },
  {
   "cell_type": "markdown",
   "metadata": {},
   "source": [
    "This lab is going to examine two data files that can be organized into a database.\n",
    "The design will be implemented in PostgreSQL, then the data loaded using psycopg2.\n",
    "\n",
    "#### There is a complete video walkthrough provided in the videos section of the schedule. \n",
    "\n",
    "We have linked the videos into this file as well.\n",
    "\n",
    "For each section of the lab, \n",
    " * Breifly read through the lab (no execution)\n",
    " * Then watch the video for that section\n",
    " * Then work through the lab section"
   ]
  },
  {
   "cell_type": "markdown",
   "metadata": {},
   "source": [
    "## Section 1:  Load raw data into pandas dataframe\n",
    "\n",
    "**Video Link**: https://youtu.be/kp1vSoBAD2M\n",
    "\n",
    "### Data Files:\n",
    "\n",
    " * game-of-thrones/battles.csv \n",
    " * game-of-thrones/character-deaths.csv\n",
    " \n",
    "Let's load each one up in a Pandas dataframe and inspect it."
   ]
  },
  {
   "cell_type": "code",
   "execution_count": null,
   "metadata": {},
   "outputs": [],
   "source": [
    "import getpass\n",
    "import pandas as pd"
   ]
  },
  {
   "cell_type": "code",
   "execution_count": null,
   "metadata": {},
   "outputs": [],
   "source": [
    "battle_file = '/dsa/data/all_datasets/game-of-thrones/battles.csv'\n",
    "\n",
    "battles = pd.read_csv(battle_file)\n",
    "battles.head().transpose()"
   ]
  },
  {
   "cell_type": "code",
   "execution_count": null,
   "metadata": {},
   "outputs": [],
   "source": [
    "\n",
    "deaths_file = '/dsa/data/all_datasets/game-of-thrones/character-deaths.csv'\n",
    "\n",
    "deaths = pd.read_csv(deaths_file)\n",
    "deaths.head()\n"
   ]
  },
  {
   "cell_type": "markdown",
   "metadata": {},
   "source": [
    "### Designing our tables\n",
    "\n",
    "The tables, in this simple case, already define our Entities and their attributes:\n",
    " * Battle\n",
    " * Death\n",
    " \n",
    "We will design the tables as such:\n",
    " * Note the schema name of SSO, **replace** with your PostgreSQL user/schema (your pawprint)\n",
    "     * **NOTE: For the context of this lab, using SSO (i.e the name of our database schema) as a prefix to a table name is optional as we are creating tables in the current schema, which has the same name as our SSO. But in some context, we must use schema name as a prefix. E.g., we explored routines and triggers in M5 from the information_schema, and we had to explicitly mention the schema name such as `information_schema.routines`.**\n",
    " * Note the change in field order to make battle_number the primary key\n",
    " * Note where some fields are NOT NULL, but others are allows NULL\n",
    " \n",
    "**NULL** - The SQL NULL is the term used to represent a missing value. A NULL value in a table is a value in a field that appears to be blank. A field with a NULL value is a field with no value. It is very important to understand that a NULL value is different than a zero value or a field that contains spaces.\n",
    "\n",
    "\n",
    "Note - the below code cells are Raw and not cells that you run within the notebook. They are to show the SQL commands. They are not creating the tables in our database."
   ]
  },
  {
   "cell_type": "raw",
   "metadata": {},
   "source": [
    "CREATE TABLE SSO.battle (\n",
    " battle_number INT PRIMARY KEY, \n",
    " name VARCHAR(150) NOT NULL, \n",
    " year INT, \n",
    " attacker_king VARCHAR(50), \n",
    " defender_king VARCHAR(50), \n",
    " attacker_1 VARCHAR(50) NOT NULL, \n",
    " attacker_2 VARCHAR(50), \n",
    " attacker_3 VARCHAR(50), \n",
    " attacker_4 VARCHAR(50), \n",
    " defender_1 VARCHAR(50), \n",
    " defender_2 VARCHAR(50), \n",
    " defender_3 VARCHAR(50), \n",
    " defender_4 VARCHAR(50), \n",
    " attacker_outcome VARCHAR(6), \n",
    " battle_type VARCHAR(20), \n",
    " major_death INT, \n",
    " major_capture INT, \n",
    " attacker_size INT, \n",
    " defender_size INT, \n",
    " attacker_commanders VARCHAR(220), \n",
    " defender_commanders VARCHAR(220), \n",
    " summer INT, \n",
    " location VARCHAR(50), \n",
    " region VARCHAR(50), \n",
    " note VARCHAR(500)\n",
    ");\n"
   ]
  },
  {
   "cell_type": "raw",
   "metadata": {},
   "source": [
    "## Note, we need a death_id sequential counter as the primary key because some names repeat (non-unique)\n",
    "\n",
    "CREATE TABLE SSO.death (\n",
    " death_id SERIAL PRIMARY KEY,\n",
    " name VARCHAR(50),\n",
    " allegiances VARCHAR(50),\n",
    " death_year INT,\n",
    " book_of_death INT,\n",
    " death_chapter INT,\n",
    " book_intro_chapter INT,\n",
    " gender INT,\n",
    " nobility INT,\n",
    " GoT INT,\t\n",
    " CoK INT,\n",
    " SoS INT,\n",
    " FfC INT,\n",
    " DwD INT\n",
    ");\n"
   ]
  },
  {
   "cell_type": "markdown",
   "metadata": {},
   "source": [
    "## Section 2: Create database tables with various tools\n",
    "\n",
    "For creating tables, we can use any of the three tools that we have explored in M1 and M2. We will show how to create the battle table either with psql or sql magic functio and the death table using psycopg2. \n",
    "\n",
    "### Section 2.1: Using psql\n",
    "\n",
    "**Video Link**: https://youtu.be/Z7LrW7ooeJA\n",
    " * Please note, the database name has changed from the video, `dbase` is now `pgsql.dsa.lan`, as you have been using all semester.\n",
    "\n",
    "#### Task: Log into your database and run your create table command for battle.\n",
    "\n",
    "```BASH\n",
    "$ psql -h pgsql.dsa.lan dsa_student\n",
    "Password for user SSO:\n",
    "Type \"help\" for help.\n",
    "\n",
    "dsa_student=>\n",
    "```\n",
    "Once at this prompt copy and paste the code cell above into the terminal and hit enter. "
   ]
  },
  {
   "cell_type": "markdown",
   "metadata": {},
   "source": [
    "After creating the databases, we should see the following from the `\\dt` command:\n",
    "\n",
    "```\n",
    "dsa_student=> \\dt\n",
    "              List of relations\n",
    " Schema |      Name       | Type  |  Owner\n",
    "--------+-----------------+-------+----------\n",
    " SSO    | battle          | table | SSO\n",
    " public | spatial_ref_sys | table | postgres\n",
    "(3 rows)\n",
    "```"
   ]
  },
  {
   "cell_type": "markdown",
   "metadata": {},
   "source": [
    "Examining the table structure with `\\d SSO.`\n",
    "\n",
    "```\n",
    "dsa_student=> \\d SSO.\n",
    "                   Table \"SSO.battle\"\n",
    "       Column        |          Type          | Modifiers\n",
    "---------------------+------------------------+-----------\n",
    " battle_number       | integer                | not null\n",
    " name                | character varying(150) | not null\n",
    " year                | integer                |\n",
    " attacker_king       | character varying(50)  |\n",
    " defender_king       | character varying(50)  |\n",
    " attacker_1          | character varying(50)  | not null\n",
    " attacker_2          | character varying(50)  |\n",
    " attacker_3          | character varying(50)  |\n",
    " attacker_4          | character varying(50)  |\n",
    " defender_1          | character varying(50)  |\n",
    " defender_2          | character varying(50)  |\n",
    " defender_3          | character varying(50)  |\n",
    " defender_4          | character varying(50)  |\n",
    " attacker_outcome    | character varying(6)   |\n",
    " battle_type         | character varying(20)  |\n",
    " major_death         | integer                |\n",
    " major_capture       | integer                |\n",
    " attacker_size       | integer                |\n",
    " defender_size       | integer                |\n",
    " attacker_commanders | character varying(220) |\n",
    " defender_commanders | character varying(220) |\n",
    " summer              | integer                |\n",
    " location            | character varying(50)  |\n",
    " region              | character varying(50)  |\n",
    " note                | character varying(500) |\n",
    "Indexes:\n",
    "    \"battle_pkey\" PRIMARY KEY, btree (battle_number)\n",
    "    \n",
    "        Index \"SSO.battle_pkey\"\n",
    "    Column     |  Type   |  Definition\n",
    "---------------+---------+---------------\n",
    " battle_number | integer | battle_number\n",
    "primary key, btree, for table \"SSO.battle\"\n",
    "                                       \n",
    "```"
   ]
  },
  {
   "cell_type": "markdown",
   "metadata": {},
   "source": [
    "### Section 2.2: Using sql magic function"
   ]
  },
  {
   "cell_type": "markdown",
   "metadata": {},
   "source": [
    "#### Task: Log into your database and run your create table command for battle."
   ]
  },
  {
   "cell_type": "code",
   "execution_count": null,
   "metadata": {},
   "outputs": [],
   "source": [
    "# Initialize some variables\n",
    "SSO=\"<TYPE YOUR SSO>\"\n",
    "hostname='pgsql.dsa.lan'\n",
    "database='dsa_student'\n",
    "\n",
    "mypasswd = getpass.getpass(\"Type Password and hit enter\")\n",
    "connection_string = f\"postgres://{SSO}:{mypasswd}@{hostname}/{database}\"\n",
    "\n",
    "%load_ext sql\n",
    "%sql $connection_string "
   ]
  },
  {
   "cell_type": "code",
   "execution_count": null,
   "metadata": {},
   "outputs": [],
   "source": [
    "# Then remove the password from computer memory\n",
    "del mypasswd"
   ]
  },
  {
   "cell_type": "code",
   "execution_count": null,
   "metadata": {},
   "outputs": [],
   "source": [
    "%%sql \n",
    "\n",
    "\n",
    "CREATE TABLE IF NOT EXISTS battle (\n",
    " battle_number INT PRIMARY KEY, \n",
    " name VARCHAR(150) NOT NULL, \n",
    " year INT, \n",
    " attacker_king VARCHAR(50), \n",
    " defender_king VARCHAR(50), \n",
    " attacker_1 VARCHAR(50) NOT NULL, \n",
    " attacker_2 VARCHAR(50), \n",
    " attacker_3 VARCHAR(50), \n",
    " attacker_4 VARCHAR(50), \n",
    " defender_1 VARCHAR(50), \n",
    " defender_2 VARCHAR(50), \n",
    " defender_3 VARCHAR(50), \n",
    " defender_4 VARCHAR(50), \n",
    " attacker_outcome VARCHAR(6), \n",
    " battle_type VARCHAR(20), \n",
    " major_death INT, \n",
    " major_capture INT, \n",
    " attacker_size INT, \n",
    " defender_size INT, \n",
    " attacker_commanders VARCHAR(220), \n",
    " defender_commanders VARCHAR(220), \n",
    " summer INT, \n",
    " location VARCHAR(50), \n",
    " region VARCHAR(50), \n",
    " note VARCHAR(500)\n",
    ");\n"
   ]
  },
  {
   "cell_type": "markdown",
   "metadata": {},
   "source": [
    "Notice above we added `IF NOT EXISTS` to the create table command, this way if you are running the notebook cell multiple times it will not give you an error saying the table is already created. "
   ]
  },
  {
   "cell_type": "markdown",
   "metadata": {},
   "source": [
    "## Section 3:\n",
    "\n",
    "**Video Link**: https://youtu.be/RNSANXMePPg\n",
    "\n",
    "### Task: Use psycopg2 to create the death table\n"
   ]
  },
  {
   "cell_type": "code",
   "execution_count": null,
   "metadata": {},
   "outputs": [],
   "source": [
    "# This collects a masked password from the user\n",
    "import getpass\n",
    "SSO = \"<Type your SSO here>\"\n",
    "mypasswd = getpass.getpass()"
   ]
  },
  {
   "cell_type": "markdown",
   "metadata": {},
   "source": [
    "**In standard practice, the credentials would be read from a configuration file** but for convenience we will be using the code below. "
   ]
  },
  {
   "cell_type": "markdown",
   "metadata": {},
   "source": [
    "**NOTE** in the code below you will need to change the user to your SSO (pawprint)"
   ]
  },
  {
   "cell_type": "code",
   "execution_count": null,
   "metadata": {},
   "outputs": [],
   "source": [
    "import psycopg2\n",
    "import numpy as np\n",
    "from psycopg2.extensions import adapt, register_adapter, AsIs\n",
    "\n",
    "# Then connects to the DB\n",
    "connection = psycopg2.connect(database = 'dsa_student', \n",
    "                              user = SSO, \n",
    "                              host = 'pgsql.dsa.lan',\n",
    "                              password = mypasswd)\n"
   ]
  },
  {
   "cell_type": "code",
   "execution_count": null,
   "metadata": {},
   "outputs": [],
   "source": [
    "# Then remove the password from computer memory\n",
    "del mypasswd"
   ]
  },
  {
   "cell_type": "code",
   "execution_count": null,
   "metadata": {},
   "outputs": [],
   "source": [
    "cursor = connection.cursor()\n",
    "sqlCreateTable = \"\"\"\n",
    "CREATE TABLE IF NOT EXISTS death (\n",
    " death_id SERIAL PRIMARY KEY,\n",
    " name VARCHAR(50),\n",
    " allegiances VARCHAR(50),\n",
    " death_year INT,\n",
    " book_of_death INT,\n",
    " death_chapter INT,\n",
    " book_intro_chapter INT,\n",
    " gender INT,\n",
    " nobility INT,\n",
    " GoT INT,\n",
    " CoK INT,\n",
    " SoS INT,\n",
    " FfC INT,\n",
    " DwD INT );\n",
    " \"\"\"\n",
    "\n",
    "cursor.execute(sqlCreateTable)\n",
    "\n",
    "connection.commit()"
   ]
  },
  {
   "cell_type": "markdown",
   "metadata": {},
   "source": [
    "\n",
    "Also you will notice that there are many different ways that you can work with PostgreSQL and psycopg2 for creating your statements. \n",
    "Each example will be done a little differently so that you can see the many ways of inputting the SQL statements. "
   ]
  },
  {
   "cell_type": "markdown",
   "metadata": {},
   "source": [
    "### Task: Use psycopg2 to load the death table.\n",
    "\n",
    "Now that we have both tables created we want to load data into those tables. \n",
    "We are already connected to the server, so lets just move along with getting the data how we need it. \n",
    "\n",
    "Below we are going thru and printing each of the columns in the battles dataframe and also printing the same number of %s. this helps us when we create the insert statement. See (https://en.wikipedia.org/wiki/SQL_injection) to understand the %s.\n"
   ]
  },
  {
   "cell_type": "code",
   "execution_count": null,
   "metadata": {},
   "outputs": [],
   "source": [
    "print(deaths.columns)\n",
    "\n",
    "colstring = ','.join(deaths).replace(' ', '_')\n",
    "print(colstring)\n",
    "\n",
    "str_specifier = ','.join(['%s'] * len(deaths.columns))\n",
    "print(str_specifier)\n"
   ]
  },
  {
   "cell_type": "markdown",
   "metadata": {},
   "source": [
    "Below the insert statement is constructed,\n",
    "and then it is printed along with the data. \n",
    "In order to execute the insert statement within PostgreSQL you need to uncomment the `cursor.execute` statement as noted in the comments of the code. \n",
    "It is good practice to verify your code using _prints_ to make sure the data is truly what you think it is before inserting it.  \n"
   ]
  },
  {
   "cell_type": "code",
   "execution_count": null,
   "metadata": {},
   "outputs": [],
   "source": [
    "import numpy as np\n",
    "# Magic adapters for the Numpy Fun of Pandas\n",
    "register_adapter(np.int64,AsIs)\n",
    "register_adapter(np.float64,AsIs)\n",
    "\n",
    "# Convert our panda to have Null values (None) instead of NaN\n",
    "deaths = deaths.where(pd.notnull(deaths), None)\n",
    "\n",
    "# Note, we leave out the sequential counter.  \n",
    "# Review the table definition above for the default value\n",
    "\n",
    "INSERT_SQL = f'INSERT INTO death '\n",
    "# INSERT_SQL += ' (name,allegiances,death_year,book_of_death,death_chapter, '\n",
    "# INSERT_SQL += '  book_intro_chapter,gender,nobility,got,cok,sos,ffc,dwd ) VALUES '\n",
    "\n",
    "INSERT_SQL += f' ({colstring}) values ({str_specifier})'\n",
    "\n",
    "# this is a parameterized string for SQL, the %s are placeholders\n",
    "# this prevents SQL-Injection attacks on the code\n",
    "# https://en.wikipedia.org/wiki/SQL_injection\n",
    "# INSERT_SQL += '(%s,%s,%s,%s,%s,%s,%s,%s,%s,%s,%s,%s,%s)'\n",
    "\n",
    "\n",
    "\n",
    "print(INSERT_SQL)\n",
    "\n",
    "# Note: The Commit Will Be Automatic after this with clause\n",
    "with connection, connection.cursor() as cursor:\n",
    "    # https://pandas.pydata.org/pandas-docs/stable/generated/pandas.DataFrame.itertuples.html\n",
    "    for row in deaths.itertuples(index=False, name=None):  # pull each row as a tuple\n",
    "        \n",
    "        ##### TODO:\n",
    "        ##### Review the print output, then comment out the print(row)\n",
    "        #####         and un-comment the cursor.execute row.\n",
    "        \n",
    "        # This is an un-indexed, un-named Tuple\n",
    "        print(row) \n",
    "        \n",
    "        # Insert the row\n",
    "        cursor.execute(INSERT_SQL,row)\n"
   ]
  },
  {
   "cell_type": "markdown",
   "metadata": {},
   "source": [
    "<span style='background:yellow'> Ensure you have uncommented the `cursor.execute` command.</span>"
   ]
  },
  {
   "cell_type": "markdown",
   "metadata": {},
   "source": [
    "#### Now check in the DB: Connect via a terminal, the run the commands.\n"
   ]
  },
  {
   "cell_type": "markdown",
   "metadata": {},
   "source": [
    "\n",
    "```SQL\n",
    "dsa_student=> select count(*) from death;\n",
    " count\n",
    "-------\n",
    "   917\n",
    "(1 row)\n",
    "\n",
    "dsa_student=> \\x\n",
    "Expanded display is on.\n",
    "dsa_student=> select * from SSO.death limit 2;\n",
    "-[ RECORD 1 ]------+------------------------\n",
    "death_id           | 1\n",
    "name               | Addam Marbrand\n",
    "allegiances        | Lannister\n",
    "death_year         |\n",
    "book_of_death      |\n",
    "death_chapter      |\n",
    "book_intro_chapter | 56\n",
    "gender             | 1\n",
    "nobility           | 1\n",
    "got                | 1\n",
    "cok                | 1\n",
    "sos                | 1\n",
    "ffc                | 1\n",
    "dwd                | 0\n",
    "-[ RECORD 2 ]------+------------------------\n",
    "death_id           | 2\n",
    "name               | Aegon Frey (Jinglebell)\n",
    "allegiances        | None\n",
    "death_year         | 299\n",
    "book_of_death      | 3\n",
    "death_chapter      | 51\n",
    "book_intro_chapter | 49\n",
    "gender             | 1\n",
    "nobility           | 1\n",
    "got                | 0\n",
    "cok                | 0\n",
    "sos                | 1\n",
    "ffc                | 0\n",
    "dwd                | 0\n",
    "```"
   ]
  },
  {
   "cell_type": "markdown",
   "metadata": {},
   "source": [
    "### Task: Use psycopg2 to load the battles table.\n"
   ]
  },
  {
   "cell_type": "code",
   "execution_count": null,
   "metadata": {},
   "outputs": [],
   "source": [
    "# rename some columns to match table attributes\n",
    "battles = battles.rename(columns={'attacker_commander': 'attacker_commanders', 'defender_commander': 'defender_commanders'})"
   ]
  },
  {
   "cell_type": "code",
   "execution_count": null,
   "metadata": {
    "scrolled": true
   },
   "outputs": [],
   "source": [
    "print(battles.columns)\n",
    "colstring = ','.join(battles.columns).replace(' ', '_')\n",
    "print(colstring)\n",
    "\n",
    "str_specifier = ','.join(['%s'] * len(battles.columns))\n",
    "print(str_specifier)"
   ]
  },
  {
   "cell_type": "markdown",
   "metadata": {},
   "source": [
    "### Let's load this table, which will take a little more work:\n",
    "\n"
   ]
  },
  {
   "cell_type": "code",
   "execution_count": null,
   "metadata": {
    "scrolled": true
   },
   "outputs": [],
   "source": [
    "# Construct a parameterized SQL statement\n",
    "\n",
    "\n",
    "INSERT_SQL = f'INSERT INTO battle ({colstring}) VALUES ({str_specifier})'\n",
    "print(INSERT_SQL)\n",
    "\n",
    "# Convert our panda to have Null values (None) instead of NaN\n",
    "battles = battles.where(pd.notnull(battles), None)\n",
    "\n",
    "# Note: The Commit Will Be Automatic after this with clause\n",
    "with connection, connection.cursor() as cursor:\n",
    "    # https://pandas.pydata.org/pandas-docs/stable/generated/pandas.DataFrame.itertuples.html\n",
    "    for row in battles.itertuples(index=False, name=None):  # pull each row as a tuple\n",
    "        print(row)\n",
    "        cursor.execute(INSERT_SQL,row)\n",
    "\n"
   ]
  },
  {
   "cell_type": "markdown",
   "metadata": {},
   "source": [
    "#### Checking the DB again!\n",
    "\n",
    "```SQL\n",
    "dsa_student=> \\x\n",
    "Expanded display is on.\n",
    "dsa_student=> select * from battle limit 1;\n",
    "-[ RECORD 1 ]-------+---------------------------\n",
    "battle_number       | 1\n",
    "name                | Battle of the Golden Tooth\n",
    "year                | 298\n",
    "attacker_king       | Joffrey/Tommen Baratheon\n",
    "defender_king       | Robb Stark\n",
    "attacker_1          | Lannister\n",
    "attacker_2          |\n",
    "attacker_3          |\n",
    "attacker_4          |\n",
    "defender_1          | Tully\n",
    "defender_2          |\n",
    "defender_3          |\n",
    "defender_4          |\n",
    "attacker_outcome    | win\n",
    "battle_type         | pitched battle\n",
    "major_death         | 1\n",
    "major_capture       | 0\n",
    "attacker_size       | 15000\n",
    "defender_size       | 4000\n",
    "attacker_commanders | Jaime Lannister\n",
    "defender_commanders | Clement Piper, Vance\n",
    "summer              | 1\n",
    "location            | Golden Tooth\n",
    "region              | The Westerlands\n",
    "note                |\n",
    "```\n"
   ]
  },
  {
   "cell_type": "markdown",
   "metadata": {},
   "source": [
    "Finally lets close our connection to PostgreSQL."
   ]
  },
  {
   "cell_type": "code",
   "execution_count": null,
   "metadata": {},
   "outputs": [],
   "source": [
    "if(connection):\n",
    "    cursor.close()\n",
    "    connection.close()\n",
    "    print(\"PostgreSQL connection is closed\")"
   ]
  },
  {
   "cell_type": "markdown",
   "metadata": {},
   "source": [
    "# Save your notebook, then `File > Close and Halt`"
   ]
  },
  {
   "cell_type": "markdown",
   "metadata": {},
   "source": [
    "---"
   ]
  }
 ],
 "metadata": {
  "kernelspec": {
   "display_name": "Python 3",
   "language": "python",
   "name": "python3"
  },
  "language_info": {
   "codemirror_mode": {
    "name": "ipython",
    "version": 3
   },
   "file_extension": ".py",
   "mimetype": "text/x-python",
   "name": "python",
   "nbconvert_exporter": "python",
   "pygments_lexer": "ipython3",
   "version": "3.7.3"
  }
 },
 "nbformat": 4,
 "nbformat_minor": 2
}
