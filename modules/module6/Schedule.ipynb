{
 "cells": [
  {
   "cell_type": "markdown",
   "metadata": {},
   "source": [
    "# Module 6: Data Engineering and ETL"
   ]
  },
  {
   "cell_type": "markdown",
   "metadata": {},
   "source": [
    "## Topics covered\n",
    "\n",
    "* Review ERD / DDL\n",
    "* Normalization\n",
    "* Data Extraction and Loading \n",
    "  * Bulk Loading with Python\n",
    "\n"
   ]
  },
  {
   "cell_type": "markdown",
   "metadata": {},
   "source": [
    "## Readings\n",
    "\n",
    " * [Database Normalization](./resources/Normalization.ipynb) [must-read]\n",
    " * [Data Manipulation Language, DML](./resources/DML.ipynb)\n",
    " * [Data formats, types, usage and standards](../module2/resources/DataTypesAndStandards.ipynb)\n"
   ]
  },
  {
   "cell_type": "markdown",
   "metadata": {},
   "source": [
    "## Discussions\n",
    "No discussion board posts on canvas this week."
   ]
  },
  {
   "cell_type": "markdown",
   "metadata": {},
   "source": [
    "\n",
    "## Labs, Practices and Exercises\n"
   ]
  },
  {
   "cell_type": "markdown",
   "metadata": {},
   "source": [
    "### Labs\n",
    "\n",
    " * [Normalization](./labs/M6-P1-Normalization.ipynb)\n",
    " * [Database Loading](./labs/M6-P2-DB_Loading.ipynb)\n",
    " * [ETL](./labs/M6-P3-ETL.ipynb)\n"
   ]
  },
  {
   "cell_type": "markdown",
   "metadata": {},
   "source": [
    "### Practices \n",
    "\n",
    " * [Normalization](./practices/M6-P1-Normalization.ipynb)\n",
    " * [ETL](./practices/M6-P2-ETL.ipynb)\n",
    " \n"
   ]
  },
  {
   "cell_type": "markdown",
   "metadata": {},
   "source": [
    "### Exercises\n",
    "\n",
    " * [Nomalization](./exercises/M6-E1-Normalization.ipynb)\n",
    " * [Database Loading](./exercises/M6-E2-DB_Loading.ipynb)\n",
    " * [ETL](./exercises/M6-E3-ETL.ipynb)\n"
   ]
  },
  {
   "cell_type": "markdown",
   "metadata": {},
   "source": [
    "## Submitting  work\n",
    "\n",
    "**Note**: we are submitting labs this week as well as practices and exercises.\n",
    "\n",
    "#### Steps:\n",
    "  1. Open Terminal in JupyterHub\n",
    "  1. Change into the course folder  \n",
    "  1. Stage (Git Add) the module's exercise work   \n",
    "  `git  add modules/module6/labs  modules/module6/practices modules/module6/exercises`\n",
    "  1. Create your work snapshot (Git Commit)  \n",
    "  `git   commit   -m   \"Module 6 submission\"`\n",
    "  1. Upload the snapshot to the server (Git Push)  \n",
    "  `git   push`\n"
   ]
  }
 ],
 "metadata": {
  "kernelspec": {
   "display_name": "Python 3",
   "language": "python",
   "name": "python3"
  },
  "language_info": {
   "codemirror_mode": {
    "name": "ipython",
    "version": 3
   },
   "file_extension": ".py",
   "mimetype": "text/x-python",
   "name": "python",
   "nbconvert_exporter": "python",
   "pygments_lexer": "ipython3",
   "version": "3.7.3"
  }
 },
 "nbformat": 4,
 "nbformat_minor": 2
}
