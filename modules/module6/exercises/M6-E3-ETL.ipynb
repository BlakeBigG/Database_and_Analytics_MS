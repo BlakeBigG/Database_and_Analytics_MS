{
 "cells": [
  {
   "cell_type": "markdown",
   "metadata": {},
   "source": [
    "# Extraction, Transform, and Load\n"
   ]
  },
  {
   "cell_type": "markdown",
   "metadata": {},
   "source": [
    "---\n",
    "This exercise is similar to the one in lab and practice. Here we create a database of freshwater withdrawal by each country, and we use wikipedia as a data source. \n",
    "\n",
    "## Tasks:\n",
    "\n",
    " **Consider**:\n",
    " + https://en.wikipedia.org/wiki/List_of_countries_by_freshwater_withdrawal\n",
    " \n",
    "In the cells below, \n",
    "\n",
    " 1. Define a table for information about freshwater widrawal by each country\n",
    " 1. Describe some challenges you foresee with the data\n",
    " 1. Review and modify code cells that pull down the data from the tables into a data frame\n",
    " 1. Load the data into your database\n",
    " 1. Test loaded data with SQL queries"
   ]
  },
  {
   "cell_type": "markdown",
   "metadata": {},
   "source": [
    "### 1. Define Tables\n",
    "\n",
    "In the following cell define the table for storing the data"
   ]
  },
  {
   "cell_type": "raw",
   "metadata": {},
   "source": [
    "-- Define your table \n",
    "\n"
   ]
  },
  {
   "cell_type": "code",
   "execution_count": null,
   "metadata": {},
   "outputs": [],
   "source": [
    "import getpass\n",
    "mypasswd = getpass.getpass()\n",
    "username = 'SSO'\n",
    "host = 'pgsql.dsa.lan'\n",
    "database = 'dsa_student'"
   ]
  },
  {
   "cell_type": "code",
   "execution_count": null,
   "metadata": {},
   "outputs": [],
   "source": [
    "# Then connects to the DB\n",
    "from sqlalchemy.engine.url import URL\n",
    "from sqlalchemy import create_engine\n",
    "\n",
    "# SQLAlchemy Connection Parameters\n",
    "postgres_db = {'drivername': 'postgres',\n",
    "               'username': username,\n",
    "               'password': mypasswd,\n",
    "               'host': host,\n",
    "               'database' :database}\n",
    "engine = create_engine(URL(**postgres_db), echo=True)\n",
    "del mypasswd"
   ]
  },
  {
   "cell_type": "markdown",
   "metadata": {},
   "source": [
    "Now create a query string with above create statement and execute the query with a sqlalchemy engine."
   ]
  },
  {
   "cell_type": "code",
   "execution_count": null,
   "metadata": {},
   "outputs": [],
   "source": []
  },
  {
   "cell_type": "markdown",
   "metadata": {},
   "source": [
    "### 2. Data Scrapping "
   ]
  },
  {
   "cell_type": "code",
   "execution_count": null,
   "metadata": {},
   "outputs": [],
   "source": [
    "#import the library to query a website\n",
    "import requests\n",
    "# import Beautiful soup library to access functions to parse the data returned from the website\n",
    "from bs4 import BeautifulSoup\n",
    "\n"
   ]
  },
  {
   "cell_type": "code",
   "execution_count": null,
   "metadata": {},
   "outputs": [],
   "source": [
    "# specify the url\n"
   ]
  },
  {
   "cell_type": "markdown",
   "metadata": {},
   "source": [
    "The response we get from web is typically html content. \n",
    "We can read the content of the server's response. \n",
    "Below, when a `BeautifulSoup` object is created from an html response, we explicitly reference the text format(`response.text`).\n",
    "\n",
    "The default encoding format is 'UTF-8' as shown below. \n",
    "\n",
    "[Click here for additional documentations about the response object.](http://docs.python-requests.org/en/master/user/quickstart/#response-content)\n",
    "\n"
   ]
  },
  {
   "cell_type": "code",
   "execution_count": null,
   "metadata": {},
   "outputs": [],
   "source": [
    "# Parse the html in the 'response' variable, and store it in Beautiful Soup format\n",
    "soup = <write your code>"
   ]
  },
  {
   "cell_type": "markdown",
   "metadata": {},
   "source": [
    "### Inspect the page source to determine how you need to extract the tables into its own soup object.\n"
   ]
  },
  {
   "cell_type": "code",
   "execution_count": null,
   "metadata": {},
   "outputs": [],
   "source": []
  },
  {
   "cell_type": "markdown",
   "metadata": {},
   "source": [
    "#### Look at the first couple rows"
   ]
  },
  {
   "cell_type": "code",
   "execution_count": null,
   "metadata": {},
   "outputs": [],
   "source": []
  },
  {
   "cell_type": "markdown",
   "metadata": {},
   "source": [
    "#### TODOs: \n",
    "\n",
    "**Examining the HTML Table Header, and identify the columns. Feel free automate the extraction of header.**\n",
    "\n",
    "\n"
   ]
  },
  {
   "cell_type": "code",
   "execution_count": null,
   "metadata": {
    "scrolled": true
   },
   "outputs": [],
   "source": [
    "# We will use the locale library so we can use \n",
    "# atof and atoi to convert alphanumeric to float and integers, respectively.\n",
    "import locale\n",
    "locale.setlocale( locale.LC_ALL, 'en_US.UTF-8' ) \n",
    "\n",
    "\n",
    "<write you code for extracting data from the soup object>\n",
    "\n"
   ]
  },
  {
   "cell_type": "markdown",
   "metadata": {},
   "source": [
    "##### Now that we have built all our columns, stack into a data frame!"
   ]
  },
  {
   "cell_type": "code",
   "execution_count": null,
   "metadata": {},
   "outputs": [],
   "source": []
  },
  {
   "cell_type": "markdown",
   "metadata": {},
   "source": [
    "### Check  column data types!\n",
    "Does this match the data types we sketched out in the `CREATE TABLE` statement above?\n",
    "If you need to adjust the definition, this would be the time.\n",
    "Alternatively, we can adjust the columns using Pandas techniques."
   ]
  },
  {
   "cell_type": "code",
   "execution_count": null,
   "metadata": {},
   "outputs": [],
   "source": []
  },
  {
   "cell_type": "markdown",
   "metadata": {},
   "source": [
    "Once we have our Panda data frame and the SQL table inline, we can load it into the database.\n",
    "\n",
    "---"
   ]
  },
  {
   "cell_type": "markdown",
   "metadata": {},
   "source": [
    "### 4. Load the data into your database using SQLAlchemy\n"
   ]
  },
  {
   "cell_type": "code",
   "execution_count": null,
   "metadata": {},
   "outputs": [],
   "source": []
  },
  {
   "cell_type": "markdown",
   "metadata": {},
   "source": [
    "### 5. Test loaded data with SQL queries"
   ]
  },
  {
   "cell_type": "markdown",
   "metadata": {},
   "source": [
    "\n",
    "#### TODO: Run the SQL in your database to verify the data was loaded.\n",
    "\n"
   ]
  },
  {
   "cell_type": "code",
   "execution_count": null,
   "metadata": {},
   "outputs": [],
   "source": []
  },
  {
   "cell_type": "markdown",
   "metadata": {},
   "source": [
    "\n",
    "### 6. Now that the data is loaded, let's pull it back out and store it to a dataframe!\n",
    "\n",
    "\n",
    "\n"
   ]
  },
  {
   "cell_type": "code",
   "execution_count": null,
   "metadata": {},
   "outputs": [],
   "source": []
  },
  {
   "cell_type": "markdown",
   "metadata": {},
   "source": [
    "# Save your notebook, then `File > Close and Halt`"
   ]
  },
  {
   "cell_type": "markdown",
   "metadata": {},
   "source": [
    "---"
   ]
  }
 ],
 "metadata": {
  "kernelspec": {
   "display_name": "Python 3",
   "language": "python",
   "name": "python3"
  },
  "language_info": {
   "codemirror_mode": {
    "name": "ipython",
    "version": 3
   },
   "file_extension": ".py",
   "mimetype": "text/x-python",
   "name": "python",
   "nbconvert_exporter": "python",
   "pygments_lexer": "ipython3",
   "version": "3.7.3"
  }
 },
 "nbformat": 4,
 "nbformat_minor": 2
}
