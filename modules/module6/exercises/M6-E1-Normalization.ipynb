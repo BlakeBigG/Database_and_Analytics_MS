{
 "cells": [
  {
   "cell_type": "markdown",
   "metadata": {},
   "source": [
    "# Normalization of a database"
   ]
  },
  {
   "cell_type": "markdown",
   "metadata": {},
   "source": [
    "Consider the following order form. If the image is not visible, then find the `order-slip.jpg` in the exercise folder. \n",
    "\n",
    "We can define the following table to capture the information in this form. \n",
    "\n",
    "**Order_Form(order_num, customer_num, customer_name, customer_address, city_country, date, (product_num, desc, quant, price))**\n",
    "\n",
    "The above table is in 0-NF (without any normalization). Note that here the subset of attributes inside the inner parentheses represents repetition of these attributes with respect to the attributes defined outside this inner parentheses."
   ]
  },
  {
   "cell_type": "markdown",
   "metadata": {},
   "source": [
    "![image](./order-slip.jpg)"
   ]
  },
  {
   "cell_type": "markdown",
   "metadata": {},
   "source": [
    "### Note\n",
    "\n",
    "* While breaking the above table, give appropriate names to the relations. \n",
    "* You don't need to show tables with data. Just specify the table with the attributes.\n",
    "    * Using pen and paper, you can create a dummy table to better undertand the problem\n",
    "* Justy why the tables are in 1-NF\n",
    "* You might have to solve each of the question in multi-steps. One decomposition may not fully convert each of the relations to a form.   \n",
    "    * You can either show each of these intermediate steps or simply give the final decomposition\n",
    "* Add additional cells if required. Use markdown or raw nbcovert as cell type. \n",
    "\n",
    "\n",
    "\n",
    "### 1. Is the above relation in 1-NF? If not, decompose the above relation into relations that follow 1-NF.\n",
    "\n"
   ]
  },
  {
   "cell_type": "raw",
   "metadata": {},
   "source": [
    "No. There are both composite and multivalued attributes in this relation. The decompositions required are changing {city-country} to {city, country} and to take ((product_num, desc, quant, price)) out of the inner parentheses for the final result of:\n",
    "\n",
    "Order_Form(order_num, customer_num, customer_name, customer_address, city, country, date, product_num, desc, quant, price)"
   ]
  },
  {
   "cell_type": "markdown",
   "metadata": {},
   "source": [
    "### 2. Do the above relations in 1-NF are also in 2-NF? If not, specify the reasons? If required, decompose the relations into 2-NF.\n",
    "\n"
   ]
  },
  {
   "cell_type": "raw",
   "metadata": {},
   "source": [
    "No. There are partial dependencies. The primary key is {order_num, product_num}. The partial dependencies are:\n",
    "\n",
    "{order_num} ==> {customer_num}\n",
    "{order_num} ==> {customer_name}\n",
    "{order_num} ==> {customer_address}\n",
    "{order_num} ==> {city}\n",
    "{order_num} ==> {country}\n",
    "{order_num} ==> {date}\n",
    "\n",
    "The relation can be decomposed into two relations:\n",
    "\n",
    "Order_info(order_num, customer_num, customer_name, customer_address, city, country, date) with primary key {order_num}\n",
    "\n",
    "Order_contents(order_num, product_num, desc, quant, price) with primary key {order_num, product_num}"
   ]
  },
  {
   "cell_type": "markdown",
   "metadata": {},
   "source": [
    "### 3. Do the above relations in 2-NF are also in 3-NF? If not, specify the reasons? If required, decompose the relations into 3-NF."
   ]
  },
  {
   "cell_type": "raw",
   "metadata": {},
   "source": [
    "No. There are transitive dependencies:\n",
    "\n",
    "{order_num} ==> {customer_address} and {customer_address} ==> {city} and {city} ==> {country}\n",
    "{order_num} ==> {customer_num} and {customer_num} ==> {customer_name}\n",
    "{order_num} ==> {customer_num} and {customer_num} ==> {customer_address}\n",
    "\n",
    "The relations can be decomposed into the following:\n",
    "\n",
    "Order_info(order_num, customer_num, date) with primary key {order_num}\n",
    "\n",
    "Customer(customer_num, customer_name, customer_address) with primary key {customer_num}\n",
    "\n",
    "Address(customer_address, city, country) with primary key {customer_address}\n",
    "\n",
    "Order_contents(order_num, product_num, desc, quant, price) with primary key {order_num, product_num}"
   ]
  }
 ],
 "metadata": {
  "kernelspec": {
   "display_name": "Python 3",
   "language": "python",
   "name": "python3"
  },
  "language_info": {
   "codemirror_mode": {
    "name": "ipython",
    "version": 3
   },
   "file_extension": ".py",
   "mimetype": "text/x-python",
   "name": "python",
   "nbconvert_exporter": "python",
   "pygments_lexer": "ipython3",
   "version": "3.7.3"
  }
 },
 "nbformat": 4,
 "nbformat_minor": 2
}
