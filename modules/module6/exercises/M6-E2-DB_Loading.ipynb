{
 "cells": [
  {
   "cell_type": "markdown",
   "metadata": {},
   "source": [
    "# Database Design and Load Exercise\n",
    "\n",
    "### Steps\n",
    " 1. Analyze - Completed last module\n",
    " 2. Design - Completed last module. \n",
    " 3. Data Carpentry\n",
    " 4. Data Loading\n",
    " 5. Analytical Queries"
   ]
  },
  {
   "cell_type": "markdown",
   "metadata": {},
   "source": [
    "# Smart Stores ERD\n",
    "\n",
    "In Module 2 module everyone developed an ERD diagram for a smart store based on the entities and attributes below.\n",
    "\n"
   ]
  },
  {
   "cell_type": "markdown",
   "metadata": {},
   "source": [
    "### orders :\n",
    "* `order_id`: order identifier\n",
    "* `user_id`: customer identifier\n",
    "* `eval_set`: which evaluation set this order belongs in (see `SET` described below)\n",
    "* `order_number`: the order sequence number for this user (1 = first, n = nth)\n",
    "* `order_dow`: the day of the week the order was placed on\n",
    "* `order_hour_of_day`: the hour of the day the order was placed on\n",
    "* `days_since_prior`: days since the last order, capped at 30 (with NAs for `order_number` = 1)\n",
    "\n",
    "### products :\n",
    "* `product_id`: product identifier\n",
    "* `product_name`: name of the product\n",
    "* `aisle_id`: foreign key\n",
    "* `department_id`: foreign key\n",
    "\n",
    "### aisles :\n",
    "* `aisle_id`: aisle identifier\n",
    "* `aisle`: the name of the aisle\n",
    "\n",
    "### deptartments :\n",
    "* `department_id`: department identifier\n",
    "* `department`: the name of the department\n",
    "\n",
    "### order_products :\n",
    "* `order_id`: foreign key\n",
    "* `product_id`: foreign key\n",
    "* `add_to_cart_order`: order in which each product was added to cart\n",
    "* `reordered`: 1 if this product has been ordered by this user in the past, 0 otherwise\n",
    "\n",
    "#### where SET is one of the four following evaluation sets (eval_set in orders):\n",
    "\n",
    "* \"prior\": orders prior to that users most recent order (~3.2m orders)\n",
    "* \"train\": training data supplied to participants (~131k orders)\n",
    "* \"test\": test data reserved for machine learning competitions (~75k orders)"
   ]
  },
  {
   "cell_type": "markdown",
   "metadata": {
    "collapsed": true
   },
   "source": [
    "# ERD Diagram\n",
    "\n",
    "For this assignment this is the ERD diagram everyone should use based on the requirements above. It is ok if you had something a little bit different in last week's exercise as long as you captured all of the requirements and relationships."
   ]
  },
  {
   "cell_type": "markdown",
   "metadata": {
    "collapsed": true
   },
   "source": [
    "![erd](../images/smart_store.png)"
   ]
  },
  {
   "cell_type": "markdown",
   "metadata": {},
   "source": [
    "\n",
    "### 1. Create the tables in the database using SQLAlchemy\n",
    "\n",
    "Convert the Entities and attributes into a Database schema for Postgres. **Remember to specify your Primary Keys and Foreign Keys for each table!** "
   ]
  },
  {
   "cell_type": "code",
   "execution_count": 2,
   "metadata": {},
   "outputs": [
    {
     "name": "stdout",
     "output_type": "stream",
     "text": [
      "········\n"
     ]
    }
   ],
   "source": [
    "import pandas as pd\n",
    "import getpass\n",
    "mypasswd = getpass.getpass()\n",
    "username = 'bmgwd9'\n",
    "host = 'pgsql.dsa.lan'\n",
    "database = 'dsa_student'\n",
    "\n",
    "# Then connects to the DB\n",
    "from sqlalchemy.engine.url import URL\n",
    "from sqlalchemy import create_engine\n",
    "\n",
    "# SQLAlchemy Connection Parameters\n",
    "postgres_db = {'drivername': 'postgres',\n",
    "               'username': username,\n",
    "               'password': mypasswd,\n",
    "               'host': host,\n",
    "               'database' :database}\n",
    "engine = create_engine(URL(**postgres_db), echo=False)\n",
    "del mypasswd"
   ]
  },
  {
   "cell_type": "code",
   "execution_count": 42,
   "metadata": {},
   "outputs": [
    {
     "name": "stdout",
     "output_type": "stream",
     "text": [
      "<sqlalchemy.engine.result.ResultProxy object at 0x7fac3adc8278>\n"
     ]
    }
   ],
   "source": [
    "query = \"\"\"\n",
    "DROP TABLE IF EXISTS aisles CASCADE;\n",
    "\"\"\"\n",
    "\n",
    "with engine.connect() as connection:\n",
    "    res = connection.execute(query)\n",
    "    print(res)"
   ]
  },
  {
   "cell_type": "code",
   "execution_count": 45,
   "metadata": {
    "scrolled": false
   },
   "outputs": [
    {
     "name": "stdout",
     "output_type": "stream",
     "text": [
      "<sqlalchemy.engine.result.ResultProxy object at 0x7fac549fcc50>\n"
     ]
    }
   ],
   "source": [
    "query = \"\"\"\n",
    "DROP TABLE IF EXISTS orders;\n",
    "CREATE TABLE orders (\n",
    "    order_id                INT, -- Integer\n",
    "    user_id                 INT, \n",
    "    eval_set                varchar(100), -- Character String, varied length\n",
    "    order_number            INT, \n",
    "    order_dow               INT,\n",
    "    order_hour_of_day       INT,\n",
    "    days_since_prior_order  REAL, -- Floating point number\n",
    "    PRIMARY KEY (order_id)\n",
    ")\n",
    "\"\"\"\n",
    "\n",
    "with engine.connect() as connection:\n",
    "    res = connection.execute(query)\n",
    "    print(res)"
   ]
  },
  {
   "cell_type": "code",
   "execution_count": 46,
   "metadata": {},
   "outputs": [
    {
     "name": "stdout",
     "output_type": "stream",
     "text": [
      "<sqlalchemy.engine.result.ResultProxy object at 0x7fac549fc860>\n"
     ]
    }
   ],
   "source": [
    "query = \"\"\"\n",
    "DROP TABLE IF EXISTS aisles;\n",
    "CREATE TABLE aisles (\n",
    "    aisle_id             INT, \n",
    "    aisle                varchar(100), \n",
    "     PRIMARY KEY (aisle_id)\n",
    ")\n",
    "\"\"\"\n",
    "\n",
    "with engine.connect() as connection:\n",
    "    res = connection.execute(query)\n",
    "    print(res)"
   ]
  },
  {
   "cell_type": "code",
   "execution_count": 47,
   "metadata": {},
   "outputs": [
    {
     "name": "stdout",
     "output_type": "stream",
     "text": [
      "<sqlalchemy.engine.result.ResultProxy object at 0x7fac5d3f4eb8>\n"
     ]
    }
   ],
   "source": [
    "query = \"\"\"\n",
    "CREATE TABLE departments (\n",
    "    department_id              INT,\n",
    "    department                 varchar(100),\n",
    "     PRIMARY KEY (department_id)\n",
    ")\n",
    "\"\"\"\n",
    "\n",
    "with engine.connect() as connection:\n",
    "    res = connection.execute(query)\n",
    "    print(res)"
   ]
  },
  {
   "cell_type": "code",
   "execution_count": 48,
   "metadata": {},
   "outputs": [
    {
     "name": "stdout",
     "output_type": "stream",
     "text": [
      "<sqlalchemy.engine.result.ResultProxy object at 0x7fac5d91d048>\n"
     ]
    }
   ],
   "source": [
    "query = \"\"\"\n",
    "DROP TABLE IF EXISTS products;\n",
    "CREATE TABLE products (\n",
    "    product_id           INT, \n",
    "    department_id        INT,\n",
    "    aisle_id             INT,\n",
    "    product_name         varchar(200),\n",
    "     PRIMARY KEY (product_id),\n",
    "     FOREIGN KEY (department_id) REFERENCES departments(department_id),\n",
    "     FOREIGN KEY (aisle_id) REFERENCES aisles(aisle_id)\n",
    ")\n",
    "\"\"\"\n",
    "\n",
    "with engine.connect() as connection:\n",
    "    res = connection.execute(query)\n",
    "    print(res)"
   ]
  },
  {
   "cell_type": "code",
   "execution_count": 49,
   "metadata": {},
   "outputs": [
    {
     "name": "stdout",
     "output_type": "stream",
     "text": [
      "<sqlalchemy.engine.result.ResultProxy object at 0x7fac54e73400>\n"
     ]
    }
   ],
   "source": [
    "query = \"\"\"\n",
    "DROP TABLE IF EXISTS order_products;\n",
    "CREATE TABLE order_products (\n",
    "    order_id             INT, \n",
    "    product_id           INT,\n",
    "    add_to_cart_order    INT,\n",
    "    reordered            REAL,\n",
    "     PRIMARY KEY (order_id, product_id),\n",
    "     FOREIGN KEY (order_id) REFERENCES orders(order_id),\n",
    "     FOREIGN KEY (product_id) REFERENCES products(product_id)\n",
    ")\n",
    "\"\"\"\n",
    "\n",
    "with engine.connect() as connection:\n",
    "    res = connection.execute(query)\n",
    "    print(res)"
   ]
  },
  {
   "cell_type": "markdown",
   "metadata": {},
   "source": [
    "### 2. Load data from the following files using SQLAlchemy:\n",
    "\n",
    "#### `/dsa/data/all_datasets/instacart/orders.csv`\n",
    " * 3421084 Rows\n",
    " * File Preview \n",
    "```\n",
    "order_id,user_id,eval_set,order_number,order_dow,order_hour_of_day,days_since_prior_order\n",
    "2539329,1,prior,1,2,08,\n",
    "2398795,1,prior,2,3,07,15.0\n",
    "473747,1,prior,3,3,12,21.0\n",
    "2254736,1,prior,4,4,07,29.0\n",
    "```\n",
    "\n",
    "#### `/dsa/data/all_datasets/instacart/products.csv`\n",
    " * 49689 Rows\n",
    " * File Preview \n",
    "```\n",
    "product_id,product_name,aisle_id,department_id\n",
    "1,Chocolate Sandwich Cookies,61,19\n",
    "2,All-Seasons Salt,104,13\n",
    "3,Robust Golden Unsweetened Oolong Tea,94,7\n",
    "4,Smart Ones Classic Favorites Mini Rigatoni With Vodka Cream Sauce,38,1\n",
    "```\n",
    "\n",
    "#### `/dsa/data/all_datasets/instacart/aisles.csv`\n",
    " * 135 Rows\n",
    " * File Preview \n",
    "```\n",
    "aisle_id,aisle\n",
    "1,prepared soups salads\n",
    "2,specialty cheeses\n",
    "3,energy granola bars\n",
    "4,instant foods\n",
    "```\n",
    "\n",
    "#### `/dsa/data/all_datasets/instacart/departments.csv`\n",
    " * 22 Rows\n",
    " * File Preview \n",
    "```\n",
    "department_id,department\n",
    "1,frozen\n",
    "2,other\n",
    "3,bakery\n",
    "4,produce\n",
    "```\n",
    "\n",
    "#### `/dsa/data/all_datasets/instacart/order_products.csv`\n",
    " * 1384618 Rows\n",
    " * File Preview \n",
    "```\n",
    "order_id,product_id,add_to_cart_order,reordered\n",
    "1,49302,1,1\n",
    "1,11109,2,1\n",
    "1,10246,3,0\n",
    "1,49683,4,0\n",
    "```\n",
    "     "
   ]
  },
  {
   "cell_type": "markdown",
   "metadata": {},
   "source": [
    "## In each designated cell, load the data using Python\n",
    "\n"
   ]
  },
  {
   "cell_type": "markdown",
   "metadata": {},
   "source": [
    "### 2.1 - Orders "
   ]
  },
  {
   "cell_type": "code",
   "execution_count": 50,
   "metadata": {},
   "outputs": [],
   "source": [
    "orders = pd.read_csv('/dsa/data/all_datasets/instacart/orders.csv')\n",
    "\n",
    "orders.to_sql('orders', # The table to load\n",
    "          engine,             # The engine created above\n",
    "          schema= username,   # The schema where the table lives, our pawprint\n",
    "          if_exists='append', # If the table is found, it would keep loading the end of table.\n",
    "          index=False,        # Ignore creating an index for the index col in the dataframe\n",
    "          chunksize=100,      # Do 100 records from the data frame at a time\n",
    "          method='multi')       \n"
   ]
  },
  {
   "cell_type": "markdown",
   "metadata": {},
   "source": [
    "### 2.2 - Products\n",
    "\n",
    "\n",
    "\n",
    "\n",
    "\n"
   ]
  },
  {
   "cell_type": "code",
   "execution_count": 54,
   "metadata": {},
   "outputs": [],
   "source": [
    "products = pd.read_csv('/dsa/data/all_datasets/instacart/products.csv')\n",
    "\n",
    "products.to_sql('products', # The table to load\n",
    "          engine,             # The engine created above\n",
    "          schema= username,   # The schema where the table lives, our pawprint\n",
    "          if_exists='append', # If the table is found, it would keep loading the end of table.\n",
    "          index=False,        # Ignore creating an index for the index col in the dataframe\n",
    "          chunksize=10)    \n"
   ]
  },
  {
   "cell_type": "markdown",
   "metadata": {},
   "source": [
    "### 2.3 - Aisles"
   ]
  },
  {
   "cell_type": "code",
   "execution_count": 52,
   "metadata": {},
   "outputs": [],
   "source": [
    "aisles = pd.read_csv('/dsa/data/all_datasets/instacart/aisles.csv')\n",
    "\n",
    "aisles.to_sql('aisles', # The table to load\n",
    "          engine,             # The engine created above\n",
    "          schema= username,   # The schema where the table lives, our pawprint\n",
    "          if_exists='append', # If the table is found, it would keep loading the end of table.\n",
    "          index=False,        # Ignore creating an index for the index col in the dataframe\n",
    "          chunksize=100,      # Do 100 records from the data frame at a time\n",
    "          method='multi')    \n"
   ]
  },
  {
   "cell_type": "markdown",
   "metadata": {},
   "source": [
    "### 2.4 - Departments"
   ]
  },
  {
   "cell_type": "code",
   "execution_count": 53,
   "metadata": {},
   "outputs": [],
   "source": [
    "departments = pd.read_csv('/dsa/data/all_datasets/instacart/departments.csv')\n",
    "\n",
    "departments.to_sql('departments', # The table to load\n",
    "          engine,             # The engine created above\n",
    "          schema= username,   # The schema where the table lives, our pawprint\n",
    "          if_exists='append', # If the table is found, it would keep loading the end of table.\n",
    "          index=False,        # Ignore creating an index for the index col in the dataframe\n",
    "          chunksize=100,      # Do 100 records from the data frame at a time\n",
    "          method='multi')  \n"
   ]
  },
  {
   "cell_type": "markdown",
   "metadata": {},
   "source": [
    "### 2.5 - Order Products"
   ]
  },
  {
   "cell_type": "code",
   "execution_count": 55,
   "metadata": {},
   "outputs": [],
   "source": [
    "order_products = pd.read_csv('/dsa/data/all_datasets/instacart/order_products.csv')\n",
    "\n",
    "order_products.to_sql('order_products', # The table to load\n",
    "          engine,             # The engine created above\n",
    "          schema= username,   # The schema where the table lives, our pawprint\n",
    "          if_exists='append', # If the table is found, it would keep loading the end of table.\n",
    "          index=False,        # Ignore creating an index for the index col in the dataframe\n",
    "          chunksize=100,      # Do 100 records from the data frame at a time\n",
    "          method='multi')  \n"
   ]
  },
  {
   "cell_type": "markdown",
   "metadata": {},
   "source": [
    "# Save your notebook, then `File > Close and Halt`"
   ]
  },
  {
   "cell_type": "markdown",
   "metadata": {},
   "source": [
    "---"
   ]
  }
 ],
 "metadata": {
  "kernelspec": {
   "display_name": "Python 3",
   "language": "python",
   "name": "python3"
  },
  "language_info": {
   "codemirror_mode": {
    "name": "ipython",
    "version": 3
   },
   "file_extension": ".py",
   "mimetype": "text/x-python",
   "name": "python",
   "nbconvert_exporter": "python",
   "pygments_lexer": "ipython3",
   "version": "3.7.3"
  }
 },
 "nbformat": 4,
 "nbformat_minor": 2
}
